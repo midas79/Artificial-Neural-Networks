{
  "nbformat": 4,
  "nbformat_minor": 0,
  "metadata": {
    "colab": {
      "provenance": []
    },
    "kernelspec": {
      "name": "python3",
      "display_name": "Python 3"
    }
  },
  "cells": [
    {
      "cell_type": "markdown",
      "metadata": {
        "id": "FKmHk-FbKDWe"
      },
      "source": [
        "# Bab 7 Learning Vector Quantization"
      ]
    },
    {
      "cell_type": "markdown",
      "metadata": {
        "id": "ewAbtN39KDGN"
      },
      "source": [
        "## Praktikum"
      ]
    },
    {
      "cell_type": "markdown",
      "metadata": {
        "id": "B-d5r_PjKGb2"
      },
      "source": [
        "### a) Fungsi *Training* LVQ\n",
        "\n",
        "Tulis kode ke dalam *cell* di bawah ini:"
      ]
    },
    {
      "cell_type": "code",
      "metadata": {
        "id": "YPq3_74LJ8lA"
      },
      "source": [
        "import numpy as np\n",
        "\n",
        "def lvq_fit(train, target, lrate, b, max_epoch):\n",
        "    label, train_idx = np.unique(target, return_index=True)\n",
        "    weight = train[train_idx].astype(np.float64)\n",
        "    train = np.array([e for i, e in enumerate(train) if i not in train_idx])\n",
        "    target = np.array([e for i, e in enumerate(target) if i not in train_idx])\n",
        "    train, target = train[:, 0], train[:, 1]\n",
        "    epoch = 0\n",
        "\n",
        "    while epoch < max_epoch:\n",
        "        for i, x in enumerate(train):\n",
        "            distance = [sum((w - x) ** 2) for w in weight]\n",
        "            min = np.argmin(distance)\n",
        "            sign = 1 if target[i] == label[min] else -1\n",
        "            weight[min] += sign * lrate * (x - weight[min])\n",
        "            lrate *= b\n",
        "            epoch += 1\n",
        "\n",
        "    return weight, label"
      ],
      "execution_count": 25,
      "outputs": []
    },
    {
      "cell_type": "markdown",
      "metadata": {
        "id": "0i3Wu52SKVlI"
      },
      "source": [
        "### b) Fungsi *Testing* LVQ\n",
        "\n",
        "Tulis kode ke dalam *cell* di bawah ini:"
      ]
    },
    {
      "cell_type": "code",
      "metadata": {
        "id": "ogz8RQ0JKZkn"
      },
      "source": [
        "def lvq_predict(X, model):\n",
        "    center, label = model\n",
        "    Y = []\n",
        "\n",
        "    for x in X:\n",
        "        d = [sum((c - x) ** 2) for c in center]\n",
        "        Y.append(label[np.argmin(d)])\n",
        "\n",
        "    return Y"
      ],
      "execution_count": 26,
      "outputs": []
    },
    {
      "cell_type": "markdown",
      "metadata": {
        "id": "bgf87iLclSRy"
      },
      "source": [
        "### c) Fungsi Hitung Akurasi"
      ]
    },
    {
      "cell_type": "code",
      "metadata": {
        "id": "Et-YE6WclSqQ"
      },
      "source": [
        "def calc_accuracy(a, b):\n",
        "    s = [1 if a[i] == b[i] else 0 for i in range(len(a))]\n",
        "\n",
        "    return sum(s) / len(a)"
      ],
      "execution_count": 27,
      "outputs": []
    },
    {
      "cell_type": "markdown",
      "metadata": {
        "id": "aazmHIl6KeFu"
      },
      "source": [
        "### d) Percobaan LVQ\n",
        "\n",
        "Tulis kode ke dalam *cell* di bawah ini:"
      ]
    },
    {
      "cell_type": "code",
      "metadata": {
        "id": "vcbWhRy7Kqiy",
        "colab": {
          "base_uri": "https://localhost:8080/",
          "height": 448
        },
        "outputId": "d7c42abe-9c46-4564-f8ae-871c4a011ebd"
      },
      "source": [
        "from random import uniform\n",
        "import matplotlib.pyplot as plt\n",
        "from sklearn.model_selection import train_test_split\n",
        "from sklearn.datasets import make_blobs, make_classification\n",
        "\n",
        "X, y = make_classification(n_samples=31, n_features=2, n_redundant=0, n_informative=2, n_classes=3, n_clusters_per_class=1)\n",
        "X_train, X_test, y_train, y_test = train_test_split(X, y, test_size=0.2)\n",
        "model = lvq_fit(X_train, y_train, lrate=.5, b=.8, max_epoch=50)\n",
        "output = lvq_predict(X_test, model)\n",
        "accuracy = calc_accuracy(output, y_test)\n",
        "colors = 'rgbcmyk'\n",
        "\n",
        "print('Accuracy:', accuracy)\n",
        "\n",
        "for x, label in zip(X_train, y_train):\n",
        "  plt.plot(x[0], x[1], colors[label] + '.')\n",
        "\n",
        "for center, label in zip(model[0], model[1]):\n",
        "  plt.plot(center[0], center[1], colors[label] + 'o')\n",
        "\n",
        "for x, label in zip(X_test, output):\n",
        "  plt.plot(x[0], x[1], colors[label] + 'x')"
      ],
      "execution_count": 35,
      "outputs": [
        {
          "output_type": "stream",
          "name": "stdout",
          "text": [
            "Accuracy: 0.8571428571428571\n"
          ]
        },
        {
          "output_type": "display_data",
          "data": {
            "text/plain": [
              "<Figure size 640x480 with 1 Axes>"
            ],
            "image/png": "[encoded data removed]"
          },
          "metadata": {}
        }
      ]
    },
    {
      "cell_type": "markdown",
      "source": [
        "## Analisis\n",
        "\n",
        "Jalankan kode d beberapa kali hingga didapat akurasi kurang dari 1. Amati dan analisis di mana terjadi error.\n",
        "\n",
        "Error ini muncul karena pada baris ini:\n",
        "\n",
        "train = np.array([e for i, e in enumerate(zip(train, target)) if i not in train_idx])\n",
        "\n",
        "Di sini, train merupakan array dua dimensi dari fitur, sedangkan target adalah array satu dimensi dari label. Ketika train dan target digabungkan dalam tuple, hasilnya adalah struktur data campuran yang menyebabkan error saat mencoba mengubahnya kembali menjadi array numpy. Untuk memperbaikinya, kita bisa memisahkan fitur dan target dalam variabel yang terpisah sebelum melanjutkan pengolahan lebih lanjut. Menjadi:\n",
        "\n",
        "train = np.array([e for i, e in enumerate(train) if i not in train_idx])\n",
        "\n",
        "target = np.array([e for i, e in enumerate(target) if i not in train_idx])\n"
      ],
      "metadata": {
        "id": "jEBnsEWowdJ2"
      }
    },
    {
      "cell_type": "markdown",
      "source": [
        "## Kesimpulan\n",
        "\n",
        "1. Apa yang membedakan LVQ dengan SOM?\n",
        "\n",
        "Learning Vector Quantization (LVQ) dan Self-Organizing Map (SOM) adalah metode pembelajaran berbasis vektor yang sering digunakan dalam analisis data, namun memiliki perbedaan mendasar. LVQ merupakan metode supervised learning yang menggunakan data berlabel untuk melakukan klasifikasi. Sementara itu, SOM adalah metode unsupervised learning yang bekerja tanpa label dan bertujuan untuk mengelompokkan data ke dalam peta dua dimensi untuk visualisasi pola.\n",
        "Pada LVQ, setiap prototipe mewakili kelas tertentu dari data latih dan diperbarui mendekati data yang memiliki label sama atau menjauh dari label berbeda. Hal ini membuat LVQ sangat cocok untuk tugas klasifikasi yang membutuhkan pemisahan antar kelas yang jelas. Di sisi lain, SOM membentuk grid atau matriks neuron, di mana setiap neuron merepresentasikan area dalam peta yang menunjukkan distribusi data. Pembaruan pada SOM dilakukan tidak hanya pada neuron terdekat, tetapi juga pada neuron tetangganya, untuk menjaga hubungan topologis.\n",
        "\n",
        "Algoritma pembaruan LVQ berbeda dari SOM, karena berfokus pada peningkatan akurasi klasifikasi, sedangkan SOM mengutamakan pembentukan peta topologi yang menunjukkan struktur atau kluster data. Pada LVQ, vektor prototipe diubah untuk memperbaiki pemetaan kelas berdasarkan label. Sementara di SOM, pembaruan dilakukan dengan memperhitungkan tetangga dari neuron yang menang, sehingga hasil akhirnya adalah representasi data yang terstruktur.\n",
        "Hasil dari kedua metode ini pun berbeda. LVQ menghasilkan sekumpulan prototipe kelas yang dapat digunakan untuk klasifikasi data baru berdasarkan jarak ke prototipe tersebut. SOM, di sisi lain, menghasilkan grid dua dimensi yang memungkinkan visualisasi cluster atau pengelompokan data secara alami, menjadikannya ideal untuk eksplorasi data.\n",
        "Secara keseluruhan, LVQ sering digunakan untuk tugas klasifikasi dengan kebutuhan pembelajaran terarah, sedangkan SOM berguna dalam eksplorasi dan visualisasi data yang memiliki dimensi tinggi tanpa informasi label.\n",
        "\n",
        "2. Apa yang membedakan LVQ dengan JST lain yang sesama digunakan untuk klasifikasi?\n",
        "\n",
        "Learning Vector Quantization (LVQ) berbeda dari jaringan syaraf tiruan (JST) lain yang juga digunakan untuk klasifikasi, seperti Multilayer Perceptron (MLP) atau Radial Basis Function (RBF), terutama dalam struktur dan metode pembelajaran. LVQ memiliki struktur jaringan yang lebih sederhana, terdiri dari lapisan input dan sekumpulan prototipe kelas di lapisan output. Metode pembelajarannya berbasis kompetisi, di mana setiap prototipe mendekati data dengan label yang sama atau menjauh dari data dengan label berbeda. Sementara itu, MLP dan RBF memiliki lapisan tersembunyi di antara input dan output, menggunakan metode backpropagation atau fungsi basis radial, sehingga lebih cocok untuk menangani hubungan yang kompleks dalam data.\n",
        "\n",
        "Karena arsitekturnya yang sederhana, LVQ lebih efisien dan cepat dilatih pada masalah klasifikasi sederhana. Namun, MLP dan RBF biasanya lebih kuat dalam generalisasi untuk masalah klasifikasi yang lebih kompleks berkat lapisan tersembunyi yang memungkinkan pembelajaran fitur lebih mendalam. LVQ ideal untuk kasus dengan data yang terstruktur jelas antar kelas, sementara MLP dan RBF cocok untuk masalah klasifikasi non-linear yang memerlukan model dengan kapasitas lebih tinggi.\n"
      ],
      "metadata": {
        "id": "aBPJ8k3AxRnC"
      }
    }
  ]
}