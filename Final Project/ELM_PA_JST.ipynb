{
  "nbformat": 4,
  "nbformat_minor": 0,
  "metadata": {
    "colab": {
      "provenance": []
    },
    "kernelspec": {
      "name": "python3",
      "display_name": "Python 3"
    },
    "language_info": {
      "name": "python"
    }
  },
  "cells": [
    {
      "cell_type": "code",
      "execution_count": 1,
      "metadata": {
        "colab": {
          "base_uri": "https://localhost:8080/"
        },
        "id": "OiXshv2TE0fp",
        "outputId": "acffd17a-adda-49f9-c276-00ae7156fab9"
      },
      "outputs": [
        {
          "output_type": "stream",
          "name": "stdout",
          "text": [
            "<class 'pandas.core.frame.DataFrame'>\n",
            "RangeIndex: 366 entries, 0 to 365\n",
            "Data columns (total 9 columns):\n",
            " #   Column              Non-Null Count  Dtype \n",
            "---  ------              --------------  ----- \n",
            " 0   Date                366 non-null    object\n",
            " 1   PM10                366 non-null    int64 \n",
            " 2   SO2                 366 non-null    int64 \n",
            " 3   CO                  366 non-null    int64 \n",
            " 4   O3                  366 non-null    int64 \n",
            " 5   NO2                 366 non-null    int64 \n",
            " 6   Max                 366 non-null    int64 \n",
            " 7   Critical Component  366 non-null    object\n",
            " 8   Category            366 non-null    object\n",
            "dtypes: int64(6), object(3)\n",
            "memory usage: 25.9+ KB\n"
          ]
        },
        {
          "output_type": "execute_result",
          "data": {
            "text/plain": [
              "(       Date  PM10  SO2  CO  O3  NO2  Max Critical Component  Category\n",
              " 0  1/1/2020    30    2  69  19    0   69                 CO  Moderate\n",
              " 1  1/2/2020    16    2  58  33    0   58                 CO  Moderate\n",
              " 2  1/3/2020    12    2  46  18    0   46                 CO      Good\n",
              " 3  1/4/2020     8    2  84  29    0   84                 CO  Moderate\n",
              " 4  1/5/2020     8    3  50   0    0   50                 CO      Good,\n",
              " None)"
            ]
          },
          "metadata": {},
          "execution_count": 1
        }
      ],
      "source": [
        "import pandas as pd\n",
        "\n",
        "# Membaca file CSV yang diunggah\n",
        "file_path = 'pollutant-standards-index-jogja-2020.csv'\n",
        "data = pd.read_csv(file_path)\n",
        "\n",
        "# Menampilkan beberapa baris pertama dari data untuk eksplorasi awal\n",
        "data.head(), data.info()"
      ]
    },
    {
      "cell_type": "code",
      "source": [
        "from sklearn.preprocessing import LabelEncoder\n",
        "\n",
        "# Mengubah kategori menjadi label numerik\n",
        "label_encoder = LabelEncoder()\n",
        "data['Category_Label'] = label_encoder.fit_transform(data['Category'])\n",
        "\n",
        "# Menyiapkan fitur dan target\n",
        "features = data[['PM10', 'SO2', 'CO', 'O3', 'NO2']]\n",
        "target = data['Category_Label']\n",
        "\n",
        "# Menampilkan label encoding untuk kategori\n",
        "label_mapping = dict(zip(label_encoder.classes_, label_encoder.transform(label_encoder.classes_)))\n",
        "features.head(), target.head(), label_mapping"
      ],
      "metadata": {
        "colab": {
          "base_uri": "https://localhost:8080/"
        },
        "id": "roHf4mJME33n",
        "outputId": "480f1386-33fe-41f8-b813-739466b82a31"
      },
      "execution_count": 2,
      "outputs": [
        {
          "output_type": "execute_result",
          "data": {
            "text/plain": [
              "(   PM10  SO2  CO  O3  NO2\n",
              " 0    30    2  69  19    0\n",
              " 1    16    2  58  33    0\n",
              " 2    12    2  46  18    0\n",
              " 3     8    2  84  29    0\n",
              " 4     8    3  50   0    0,\n",
              " 0    1\n",
              " 1    1\n",
              " 2    0\n",
              " 3    1\n",
              " 4    0\n",
              " Name: Category_Label, dtype: int64,\n",
              " {'Good': 0, 'Moderate': 1, 'Unhealthy': 2})"
            ]
          },
          "metadata": {},
          "execution_count": 2
        }
      ]
    },
    {
      "cell_type": "code",
      "source": [
        "from sklearn.model_selection import train_test_split\n",
        "\n",
        "# Membagi data menjadi set pelatihan (80%) dan pengujian (20%)\n",
        "X_train, X_test, y_train, y_test = train_test_split(features, target, test_size=0.2, random_state=42, stratify=target)\n",
        "\n",
        "# Menampilkan ukuran data\n",
        "X_train.shape, X_test.shape, y_train.shape, y_test.shape"
      ],
      "metadata": {
        "colab": {
          "base_uri": "https://localhost:8080/"
        },
        "id": "cnEUJR0NE6zx",
        "outputId": "1dc5ab45-1d4c-4553-e872-f233523ce1ec"
      },
      "execution_count": 3,
      "outputs": [
        {
          "output_type": "execute_result",
          "data": {
            "text/plain": [
              "((292, 5), (74, 5), (292,), (74,))"
            ]
          },
          "metadata": {},
          "execution_count": 3
        }
      ]
    },
    {
      "cell_type": "code",
      "source": [
        "import numpy as np\n",
        "from sklearn.base import BaseEstimator, ClassifierMixin\n",
        "from sklearn.preprocessing import LabelEncoder\n",
        "from sklearn.metrics import accuracy_score\n",
        "\n",
        "# 1. Implementasi ELMClassifier\n",
        "class ELMClassifier(BaseEstimator, ClassifierMixin):\n",
        "    def __init__(self, hidden_layer_size=100, activation_function='sigmoid', random_state=None):\n",
        "        self.hidden_layer_size = hidden_layer_size\n",
        "        self.activation_function = activation_function\n",
        "        self.random_state = random_state\n",
        "\n",
        "    def _activation(self, X):\n",
        "        if self.activation_function == 'sigmoid':\n",
        "            return 1 / (1 + np.exp(-X))\n",
        "        elif self.activation_function == 'tanh':\n",
        "            return np.tanh(X)\n",
        "        elif self.activation_function == 'relu':\n",
        "            return np.maximum(0, X)\n",
        "        else:\n",
        "            raise ValueError(\"Unsupported activation function.\")\n",
        "\n",
        "    def fit(self, X, y):\n",
        "        np.random.seed(self.random_state)\n",
        "\n",
        "        # One-hot encoding untuk target label\n",
        "        y_encoded = np.zeros((y.size, y.max() + 1))\n",
        "        y_encoded[np.arange(y.size), y] = 1\n",
        "\n",
        "        # Inisialisasi bobot input dan bias secara acak\n",
        "        self.input_weights = np.random.randn(X.shape[1], self.hidden_layer_size)\n",
        "        self.biases = np.random.randn(1, self.hidden_layer_size)\n",
        "\n",
        "        # Hitung output dari lapisan tersembunyi\n",
        "        H = self._activation(np.dot(X, self.input_weights) + self.biases)\n",
        "\n",
        "        # Hitung bobot output menggunakan pseudoinverse Moore-Penrose\n",
        "        self.output_weights = np.linalg.pinv(H).dot(y_encoded)\n",
        "        return self\n",
        "\n",
        "    def predict(self, X):\n",
        "        H = self._activation(np.dot(X, self.input_weights) + self.biases)\n",
        "        output = H.dot(self.output_weights)\n",
        "        return np.argmax(output, axis=1)\n",
        "\n",
        "\n"
      ],
      "metadata": {
        "id": "IRmwmXdUFBUY"
      },
      "execution_count": 4,
      "outputs": []
    },
    {
      "cell_type": "code",
      "source": [
        "# 2. Persiapan Data\n",
        "# Misalkan Anda sudah memiliki X_train dan y_train, dan dataset memiliki label kategori seperti 'Good', 'Moderate', 'Unhealthy'\n",
        "\n",
        "# Menyusun LabelEncoder untuk mengonversi label kategorikal ke angka\n",
        "label_encoder = LabelEncoder()\n",
        "y_train_encoded = label_encoder.fit_transform(y_train)  # Encode y_train ke dalam bentuk numerik\n",
        "y_test_encoded = label_encoder.transform(y_test)  # Encode y_test menggunakan label yang sama"
      ],
      "metadata": {
        "id": "TCVZRzGqOFeH"
      },
      "execution_count": 5,
      "outputs": []
    },
    {
      "cell_type": "code",
      "source": [
        "from sklearn.metrics import mean_squared_error\n",
        "\n",
        "# 3. Melatih Model ELM\n",
        "elm_model = ELMClassifier(hidden_layer_size=100, activation_function='relu', random_state=42)\n",
        "elm_model.fit(X_train.values, y_train_encoded)\n",
        "\n",
        "# 4. Memprediksi Data Uji\n",
        "y_pred = elm_model.predict(X_test.values)\n",
        "\n",
        "# Konversi y_test menjadi one-hot encoding agar konsisten dengan format keluaran ELM\n",
        "y_test_one_hot = np.zeros((y_test_encoded.size, y_test_encoded.max() + 1))\n",
        "y_test_one_hot[np.arange(y_test_encoded.size), y_test_encoded] = 1\n",
        "\n",
        "# Hitung output dari lapisan tersembunyi untuk data uji\n",
        "H_test = elm_model._activation(np.dot(X_test.values, elm_model.input_weights) + elm_model.biases)\n",
        "\n",
        "# Hitung hasil prediksi akhir (sebelum argmax) menggunakan bobot output\n",
        "y_pred_raw = H_test.dot(elm_model.output_weights)\n",
        "\n",
        "# Hitung Mean Squared Error (MSE)\n",
        "mse = mean_squared_error(y_test_one_hot, y_pred_raw)\n",
        "\n",
        "# 5. Mengembalikan Hasil Prediksi ke Kategori Asli\n",
        "y_pred_labels = label_encoder.inverse_transform(y_pred)  # Mengonversi hasil prediksi menjadi kategori asli\n",
        "\n",
        "# 6. Menyusun Akurasi\n",
        "accuracy = accuracy_score(y_test, y_pred_labels)\n",
        "print(\"Akurasi Model pada Data Uji: \", accuracy)\n",
        "print(\"Mean Squared Error (MSE) of the model:\", mse)"
      ],
      "metadata": {
        "colab": {
          "base_uri": "https://localhost:8080/"
        },
        "id": "230HAdFGOIBB",
        "outputId": "1cd46d5a-8cb4-4e5f-a723-93b070ce2c25"
      },
      "execution_count": 7,
      "outputs": [
        {
          "output_type": "stream",
          "name": "stdout",
          "text": [
            "Akurasi Model pada Data Uji:  0.9054054054054054\n",
            "Mean Squared Error (MSE) of the model: 0.05375463131022339\n"
          ]
        }
      ]
    },
    {
      "cell_type": "code",
      "source": [
        "import pandas as pd\n",
        "import numpy as np\n",
        "\n",
        "# Misalkan 'features' adalah DataFrame yang berisi fitur asli Anda\n",
        "# Membuat data sintetis berdasarkan rentang data asli\n",
        "min_values = features.min().values\n",
        "max_values = features.max().values\n",
        "adjusted_max_values = np.where(min_values >= max_values, min_values + 1, max_values)\n",
        "\n",
        "data_sintetis = np.random.randint(low=min_values, high=adjusted_max_values, size=(20, features.shape[1]))\n",
        "\n",
        "# Mengonversi data sintetis ke DataFrame dan menambahkan nama kolom\n",
        "data_sintetis_df = pd.DataFrame(data_sintetis, columns=features.columns)\n",
        "\n",
        "# Memprediksi kategori untuk data sintetis\n",
        "prediksi_sintetis = elm_model.predict(data_sintetis_df)\n",
        "hasil_kategori = label_encoder.inverse_transform(prediksi_sintetis)\n",
        "\n",
        "# Menambahkan kolom Predicted_Category ke DataFrame\n",
        "data_sintetis_df['Predicted_Category'] = hasil_kategori\n",
        "\n",
        "# Menampilkan DataFrame dan kolom\n",
        "print(data_sintetis_df.head(10))\n",
        "print(\"\\nNama Kolom:\")\n",
        "print(data_sintetis_df.columns)"
      ],
      "metadata": {
        "colab": {
          "base_uri": "https://localhost:8080/"
        },
        "id": "WcW_1tsnGhcd",
        "outputId": "99f0161b-3060-4ff7-9050-4cf6a1df25a9"
      },
      "execution_count": 10,
      "outputs": [
        {
          "output_type": "stream",
          "name": "stdout",
          "text": [
            "   PM10  SO2   CO  O3  NO2  Predicted_Category\n",
            "0    35    3    7  33    0                   0\n",
            "1    37    5   31  45    0                   0\n",
            "2    45    3  141  54    0                   1\n",
            "3    50    1    6  73    0                   1\n",
            "4     9    0  150  18    0                   2\n",
            "5    50    4  146  35    0                   1\n",
            "6    31    3   81   1    0                   1\n",
            "7     3    4  147  10    0                   2\n",
            "8    44    1  118  11    0                   1\n",
            "9    22    4   36  37    0                   0\n",
            "\n",
            "Nama Kolom:\n",
            "Index(['PM10', 'SO2', 'CO', 'O3', 'NO2', 'Predicted_Category'], dtype='object')\n"
          ]
        }
      ]
    },
    {
      "cell_type": "code",
      "source": [
        "import matplotlib.pyplot as plt\n",
        "import seaborn as sns\n",
        "\n",
        "# Warna untuk kategori\n",
        "palette = {'0': 'green', '1': 'yellow', '2': 'red'}\n",
        "\n",
        "# Ubah kolom 'Predicted_Category' menjadi string (jika belum)\n",
        "data_sintetis_df['Predicted_Category'] = data_sintetis_df['Predicted_Category'].astype(str)\n",
        "\n",
        "# Plot distribusi hasil prediksi kategori\n",
        "plt.figure(figsize=(8, 5))\n",
        "sns.countplot(\n",
        "    x='Predicted_Category',\n",
        "    hue='Predicted_Category',  # Assign hue to the same column\n",
        "    data=data_sintetis_df,\n",
        "    palette=palette,\n",
        "    dodge=False,  # Prevent separation of bars for hue\n",
        "    legend=False  # Turn off default legend\n",
        ")\n",
        "\n",
        "# Tambahkan legenda dengan deskripsi\n",
        "legend_labels = ['Good (0)', 'Moderate (1)', 'Unhealthy (2)']\n",
        "for category, color in palette.items():\n",
        "    plt.bar(0, 0, color=color, label=legend_labels[int(category)])  # Dummy bars for legend\n",
        "\n",
        "plt.title(\"Distribusi Kategori Prediksi\")\n",
        "plt.xlabel(\"Kategori\")\n",
        "plt.ylabel(\"Jumlah\")\n",
        "plt.legend(title=\"Kategori\", loc='upper right')\n",
        "plt.show()\n"
      ],
      "metadata": {
        "colab": {
          "base_uri": "https://localhost:8080/",
          "height": 487
        },
        "id": "OlVyWOZ8Iq9c",
        "outputId": "65c77fdb-0772-4320-e90d-e2ac5f31d49f"
      },
      "execution_count": 11,
      "outputs": [
        {
          "output_type": "display_data",
          "data": {
            "text/plain": [
              "<Figure size 800x500 with 1 Axes>"
            ],
            "image/png": "[encoded data removed]"
          },
          "metadata": {}
        }
      ]
    },
    {
      "cell_type": "code",
      "source": [
        "import seaborn as sns\n",
        "import matplotlib.pyplot as plt\n",
        "\n",
        "# Korelasi antara fitur\n",
        "correlation_matrix = data_sintetis_df[features.columns].corr()\n",
        "\n",
        "# Membuat heatmap\n",
        "plt.figure(figsize=(8, 6))\n",
        "sns.heatmap(correlation_matrix, annot=True, cmap='coolwarm', fmt=\".2f\")\n",
        "plt.title(\"Heatmap Korelasi Fitur\")\n",
        "plt.show()\n"
      ],
      "metadata": {
        "colab": {
          "base_uri": "https://localhost:8080/",
          "height": 545
        },
        "id": "ZTbmfDUtHsDf",
        "outputId": "e705bbd8-3bb5-420c-ff34-6b50601e2708"
      },
      "execution_count": 12,
      "outputs": [
        {
          "output_type": "display_data",
          "data": {
            "text/plain": [
              "<Figure size 800x600 with 2 Axes>"
            ],
            "image/png": "[encoded data removed]"
          },
          "metadata": {}
        }
      ]
    }
  ]
}