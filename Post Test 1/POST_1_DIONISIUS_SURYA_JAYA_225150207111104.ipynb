{
  "nbformat": 4,
  "nbformat_minor": 0,
  "metadata": {
    "colab": {
      "provenance": []
    },
    "kernelspec": {
      "name": "python3",
      "display_name": "Python 3"
    },
    "language_info": {
      "name": "python"
    }
  },
  "cells": [
    {
      "cell_type": "markdown",
      "source": [
        "Pada soal bab 1 ini, praktikan diharap bisa menerapkan McCulloch-Pitts Neuron 2 layer untuk menyelesaikan persoalan logika sederhana."
      ],
      "metadata": {
        "id": "Ajq3vhLich78"
      }
    },
    {
      "cell_type": "markdown",
      "source": [
        "# Modul"
      ],
      "metadata": {
        "id": "O699a8SBMGFQ"
      }
    },
    {
      "cell_type": "code",
      "metadata": {
        "id": "bIJkBSh2Wagw"
      },
      "source": [
        "def binstep(x, th=0):\n",
        "  return 1 if x >= th else 0"
      ],
      "execution_count": 1,
      "outputs": []
    },
    {
      "cell_type": "code",
      "metadata": {
        "id": "1ib6LYBRbRDF"
      },
      "source": [
        "import numpy as np\n",
        "\n",
        "def MCP(x, w, th):\n",
        "  y_in = np.dot(x, w)\n",
        "  y_out = binstep(y_in, th)\n",
        "  return y_out"
      ],
      "execution_count": 2,
      "outputs": []
    },
    {
      "cell_type": "code",
      "metadata": {
        "id": "ZXiZ_tEhfQQb"
      },
      "source": [
        "def calc_accuracy(a, b):\n",
        "  s = [1 if a[i] == b[i] else 0 for i in range(len(a))]\n",
        "  return sum(s) / len(a)"
      ],
      "execution_count": 3,
      "outputs": []
    },
    {
      "cell_type": "code",
      "metadata": {
        "id": "NiNa336XfzuU"
      },
      "source": [
        "def AND(X):\n",
        "  w = 1, 1\n",
        "  th = 2\n",
        "  y = [MCP(i, w, th) for i in X]\n",
        "  return y"
      ],
      "execution_count": 4,
      "outputs": []
    },
    {
      "cell_type": "code",
      "metadata": {
        "id": "2racFwUKhGhw",
        "colab": {
          "base_uri": "https://localhost:8080/"
        },
        "outputId": "83ca87f6-236e-4148-8638-64b24e29a27b"
      },
      "source": [
        "data = (0, 0), (0, 1), (1, 0), (1, 1)\n",
        "output = AND(data)\n",
        "true = 0, 0, 0, 1\n",
        "accuracy = calc_accuracy(output, true)\n",
        "\n",
        "print('Output:', output)\n",
        "print('True:', true)\n",
        "print('Accuracy:', accuracy)"
      ],
      "execution_count": 5,
      "outputs": [
        {
          "output_type": "stream",
          "name": "stdout",
          "text": [
            "Output: [0, 0, 0, 1]\n",
            "True: (0, 0, 0, 1)\n",
            "Accuracy: 1.0\n"
          ]
        }
      ]
    },
    {
      "cell_type": "code",
      "metadata": {
        "id": "VQ051x3e8Fni"
      },
      "source": [
        "def OR(X):\n",
        "  w = 2, 2\n",
        "  th = 2\n",
        "  y = [MCP(i, w, th) for i in X]\n",
        "  return y"
      ],
      "execution_count": 6,
      "outputs": []
    },
    {
      "cell_type": "code",
      "metadata": {
        "id": "Cjq7S2ax8IHu",
        "colab": {
          "base_uri": "https://localhost:8080/"
        },
        "outputId": "a35f841f-b306-4b3d-9c05-ac8aedc3a4e1"
      },
      "source": [
        "data = (0, 0), (0, 1), (1, 0), (1, 1)\n",
        "output = OR(data)\n",
        "true = 0, 1, 1, 1\n",
        "accuracy = calc_accuracy(output, true)\n",
        "\n",
        "print('Output:', output)\n",
        "print('True:', true)\n",
        "print('Accuracy:', accuracy)"
      ],
      "execution_count": 7,
      "outputs": [
        {
          "output_type": "stream",
          "name": "stdout",
          "text": [
            "Output: [0, 1, 1, 1]\n",
            "True: (0, 1, 1, 1)\n",
            "Accuracy: 1.0\n"
          ]
        }
      ]
    },
    {
      "cell_type": "code",
      "metadata": {
        "id": "EO-ZbanW8P6J"
      },
      "source": [
        "def ANDNOT(X):\n",
        "  w = 2, -1\n",
        "  th = 2\n",
        "  y = [MCP(i, w, th) for i in X]\n",
        "  return y"
      ],
      "execution_count": 8,
      "outputs": []
    },
    {
      "cell_type": "code",
      "metadata": {
        "id": "8Ccg-2UU8Ugk",
        "colab": {
          "base_uri": "https://localhost:8080/"
        },
        "outputId": "28d267c0-9045-4ba8-a93a-f567c4ddb766"
      },
      "source": [
        "data = (0, 0), (0, 1), (1, 0), (1, 1)\n",
        "output = ANDNOT(data)\n",
        "true = 0, 0, 1, 0\n",
        "accuracy = calc_accuracy(output, true)\n",
        "\n",
        "print('Output:', output)\n",
        "print('True:', true)\n",
        "print('Accuracy:', accuracy)"
      ],
      "execution_count": 9,
      "outputs": [
        {
          "output_type": "stream",
          "name": "stdout",
          "text": [
            "Output: [0, 0, 1, 0]\n",
            "True: (0, 0, 1, 0)\n",
            "Accuracy: 1.0\n"
          ]
        }
      ]
    },
    {
      "cell_type": "code",
      "metadata": {
        "id": "AN2gQc1A-FPf"
      },
      "source": [
        "def XOR(X):\n",
        "  X_flip = [(i[1], i[0]) for i in X]\n",
        "  y1 = ANDNOT(X)\n",
        "  y2 = ANDNOT(X_flip)\n",
        "  y = zip(y1, y2)\n",
        "  z = OR(y)\n",
        "  return z"
      ],
      "execution_count": 10,
      "outputs": []
    },
    {
      "cell_type": "code",
      "metadata": {
        "id": "DLbzE9yl-JFR",
        "colab": {
          "base_uri": "https://localhost:8080/"
        },
        "outputId": "0070074c-c07d-4111-c71a-3d998191bf5b"
      },
      "source": [
        "data = (0, 0), (0, 1), (1, 0), (1, 1)\n",
        "output = XOR(data)\n",
        "true = 0, 1, 1, 0\n",
        "accuracy = calc_accuracy(output, true)\n",
        "\n",
        "print('Output:', output)\n",
        "print('True:', true)\n",
        "print('Accuracy:', accuracy)"
      ],
      "execution_count": 11,
      "outputs": [
        {
          "output_type": "stream",
          "name": "stdout",
          "text": [
            "Output: [0, 1, 1, 0]\n",
            "True: (0, 1, 1, 0)\n",
            "Accuracy: 1.0\n"
          ]
        }
      ]
    },
    {
      "cell_type": "markdown",
      "source": [
        "#Soal"
      ],
      "metadata": {
        "id": "UTuApOo_MCPM"
      }
    },
    {
      "cell_type": "markdown",
      "source": [
        "Logika yang sudah ada di modul:\n",
        "-  and\n",
        "-  or\n",
        "-  andnot\n",
        "-  xor"
      ],
      "metadata": {
        "id": "-LDdWhxpBu6A"
      }
    },
    {
      "cell_type": "markdown",
      "source": [
        "Kode di bawah ini merupakan pengembangan dari JST McCulloch-Pitts Neuron. Disini teman-teman akan menyelesaikan masalah logika yang merupakan kombinasi dari dari logika-logika yang telah dibuat fungsi sebelumnya. Selesaikan dengan memanggil fungsi-fungsi tersebut."
      ],
      "metadata": {
        "id": "JNBTiPumLNPp"
      }
    },
    {
      "cell_type": "code",
      "source": [
        "def logic(X):\n",
        "  f0 = [x[0] for x in X]\n",
        "  f1 = [x[1] for x in X]\n",
        "  f2 = [x[2] for x in X]\n",
        "  op1 = OR(list(zip(f0, f1)))\n",
        "  op2 = ANDNOT(list(zip(op1, f2)))\n",
        "  return op2\n",
        "\n",
        "data = (0,0,0), (0,1,0), (0,0,1), (0,1,1), (1,1,1), (1,0,1), (1,0,0), (1,1,0)\n",
        "true = 0, 1, 0, 0, 0, 0, 1, 1\n",
        "output = logic(data)\n",
        "accuracy = calc_accuracy(output, true)\n",
        "\n",
        "print(accuracy)"
      ],
      "metadata": {
        "id": "Ux40Ut1-aPWc",
        "colab": {
          "base_uri": "https://localhost:8080/"
        },
        "outputId": "707f76cc-c8b2-4420-da00-1211b60e84a4"
      },
      "execution_count": 53,
      "outputs": [
        {
          "output_type": "stream",
          "name": "stdout",
          "text": [
            "1.0\n"
          ]
        }
      ]
    },
    {
      "cell_type": "markdown",
      "source": [
        "Bagaimana bentuk masalah logika tersebut? (gunakan variabel f0,f1,f2 untuk menjelaskannya)"
      ],
      "metadata": {
        "id": "g6TpIxh96LKt"
      }
    },
    {
      "cell_type": "markdown",
      "source": [
        "Masalah logika pada kode tersebut memanfaatkan kombinasi operasi OR dan ANDNOT untuk memproses tiga variabel input biner, yaitu f0, f1, dan f2. Pada langkah pertama, dua variabel f0 dan f1 digabungkan melalui operasi OR, yang menghasilkan nilai 1 jika salah satu atau kedua input bernilai 1. Hasil dari operasi ini disimpan dalam variabel op1. Selanjutnya, hasil dari OR tersebut (op1) dikombinasikan dengan variabel f2 menggunakan operasi ANDNOT, di mana nilai op1 di-AND dengan negasi dari f2. Operasi ini menghasilkan nilai 1 hanya jika op1 bernilai 1 dan f2 bernilai 0.\n",
        "\n",
        "Kode yang menggunakan kombinasi OR pada dua variabel pertama (f0 dan f1) diikuti dengan operasi ANDNOT dengan variabel ketiga (f2) secara efektif menyelesaikan masalah logika yang diberikan. Operasi OR memastikan bahwa hasil awal mencerminkan setidaknya salah satu dari dua variabel input, sedangkan operasi ANDNOT kemudian memfilter hasil berdasarkan negasi dari variabel ketiga. Kombinasi ini berhasil menghasilkan output yang sesuai dengan nilai kebenaran yang diinginkan pada semua kombinasi input, sehingga mencapai akurasi 1."
      ],
      "metadata": {
        "id": "WPvnWbrw6LyE"
      }
    }
  ]
}