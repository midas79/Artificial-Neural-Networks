{
  "cells": [
    {
      "cell_type": "markdown",
      "metadata": {
        "id": "jvonXDMsQP1k"
      },
      "source": [
        "# Bab 8 Backpropagation (1)"
      ]
    },
    {
      "cell_type": "markdown",
      "metadata": {
        "id": "sHySaU_QQPg1"
      },
      "source": [
        "## Praktikum"
      ]
    },
    {
      "cell_type": "markdown",
      "metadata": {
        "id": "VwJi4bWUV7MB"
      },
      "source": [
        "### a) Fungsi *Binary Encoding* dan *Decoding*\n",
        "\n",
        "Tulis kode ke dalam *cell* di bawah ini:"
      ]
    },
    {
      "cell_type": "code",
      "execution_count": null,
      "metadata": {
        "id": "J8cvPULpV-kS"
      },
      "outputs": [],
      "source": [
        "def bin_enc(lbl):\n",
        "    mi = min(lbl)\n",
        "    length = len(bin(max(lbl) - mi + 1)[2:])\n",
        "    enc = []\n",
        "\n",
        "    for i in lbl:\n",
        "            b = bin(i - mi)[2:].zfill(length)\n",
        "            enc.append([int(n) for n in b])\n",
        "    return enc\n",
        "\n",
        "def bin_dec(enc, mi=0):\n",
        "    lbl = []\n",
        "\n",
        "    for e in enc:\n",
        "        rounded = [int(round(x)) for x in e]\n",
        "        string = ''.join(str(x) for x in rounded)\n",
        "        num = int(string, 2) + mi\n",
        "        lbl.append(num)\n",
        "    return lbl"
      ]
    },
    {
      "cell_type": "markdown",
      "metadata": {
        "id": "Scbwoj7YZHvR"
      },
      "source": [
        "### b) Percobaan *Binary Encoding* dan *Decoding*\n",
        "\n",
        "Tulis kode ke dalam *cell* di bawah ini:"
      ]
    },
    {
      "cell_type": "code",
      "execution_count": null,
      "metadata": {
        "id": "MVUsMCJqZOaX",
        "colab": {
          "base_uri": "https://localhost:8080/"
        },
        "outputId": "3f89318a-c32c-4650-cf12-fea0ad83cad7"
      },
      "outputs": [
        {
          "output_type": "stream",
          "name": "stdout",
          "text": [
            "[[0, 0, 0], [0, 0, 1], [0, 1, 0], [0, 1, 1]]\n",
            "[1, 2, 3, 4]\n"
          ]
        }
      ],
      "source": [
        "del print\n",
        "labels = 1, 2, 3, 4\n",
        "enc = bin_enc(labels)\n",
        "dec = bin_dec(enc, min(labels))\n",
        "\n",
        "print(enc)\n",
        "print(dec)"
      ]
    },
    {
      "cell_type": "markdown",
      "metadata": {
        "id": "zGdWcpnXYliK"
      },
      "source": [
        "### c) Fungsi *One-hot Encoding* dan *Decoding*\n",
        "\n",
        "Tulis kode ke dalam *cell* di bawah ini:\n"
      ]
    },
    {
      "cell_type": "code",
      "execution_count": null,
      "metadata": {
        "id": "-dpspq1FYpKV"
      },
      "outputs": [],
      "source": [
        "import numpy as np\n",
        "\n",
        "def onehot_enc(lbl, min_val=0):\n",
        "    mi = min(lbl)\n",
        "    enc = np.full((len(lbl), max(lbl) - mi + 1), min_val, np.int8)\n",
        "\n",
        "    for i, x in enumerate(lbl):\n",
        "        enc[i, x - mi] = 1\n",
        "    return enc\n",
        "\n",
        "def onehot_dec(enc, mi=0):\n",
        "    return [np.argmax(e) + mi for e in enc]"
      ]
    },
    {
      "cell_type": "markdown",
      "metadata": {
        "id": "YYhCRilPY-IX"
      },
      "source": [
        "### d) Percobaan *Binary Encoding* dan *Decoding*\n",
        "\n",
        "Tulis kode ke dalam *cell* di bawah ini:"
      ]
    },
    {
      "cell_type": "code",
      "execution_count": null,
      "metadata": {
        "id": "XcemATbBaDAV",
        "colab": {
          "base_uri": "https://localhost:8080/"
        },
        "outputId": "22f0f8c0-89b8-48f0-8d0e-bec820b44806"
      },
      "outputs": [
        {
          "output_type": "stream",
          "name": "stdout",
          "text": [
            "[[1 0 0 0]\n",
            " [0 1 0 0]\n",
            " [0 0 1 0]\n",
            " [0 0 0 1]]\n",
            "[1, 2, 3, 4]\n"
          ]
        }
      ],
      "source": [
        "labels = 1, 2, 3, 4\n",
        "enc = onehot_enc(labels)\n",
        "dec = onehot_dec(enc, min(labels))\n",
        "\n",
        "print(enc)\n",
        "print(dec)"
      ]
    },
    {
      "cell_type": "markdown",
      "metadata": {
        "id": "EdlqM27eQTUj"
      },
      "source": [
        "### e) Fungsi Aktivasi Sigmoid dan Derivatifnya\n",
        "\n",
        "Tulis kode ke dalam *cell* di bawah ini:"
      ]
    },
    {
      "cell_type": "code",
      "execution_count": null,
      "metadata": {
        "id": "9zxB5G6cP5ml"
      },
      "outputs": [],
      "source": [
        "def sig(X):\n",
        "    return [1 / (1 + np.exp(-x)) for x in X]\n",
        "\n",
        "def sigd(X):\n",
        "    output = []\n",
        "\n",
        "    for i, x in enumerate(X):\n",
        "        s = sig([x])[0]\n",
        "        output.append(s * (1 - s))\n",
        "    return output"
      ]
    },
    {
      "cell_type": "markdown",
      "source": [
        "## Soal-soal\n",
        "1. Download dataset Iris dalam format CSV di\n",
        "https://datahub.io/machine-learning/iris/r/iris.csv .\n",
        "2. Baca kolom terakhir pada file tersebut yang berisi kelas data. Buatlah\n",
        "variabel bernama kelas dengan tipe list of string. Variabel kelas berisi\n",
        "semua kelas yang terdapat pada file CSV tersebut.\n",
        "3. Buatlah fungsi bernama bin_enc_str yang berfungsi untuk melakukan\n",
        "binary encoding pada string. Fungsi ini menerima input berupa list of\n",
        "string dan menghasilkan output berupa representasi binary encoding dari\n",
        "list tersebut. Jangan lupa membuat fungsi decodernya juga dengan nama\n",
        "bin_dec_str\n",
        "4. Buatlah fungsi bernama onehot_enc_str yang berfungsi untuk melakukan\n",
        "one-hot encoding pada string. Fungsi ini menerima input berupa list of\n",
        "string dan menghasilkan output berupa representasi one-hot encoding\n",
        "dari list tersebut. Jangan lupa membuat fungsi decodernya juga dengan\n",
        "nama onehot_dec_str"
      ],
      "metadata": {
        "id": "KLQZMtuneJIQ"
      }
    },
    {
      "cell_type": "code",
      "source": [
        "import pandas as pd\n",
        "import numpy as np"
      ],
      "metadata": {
        "id": "BswI9Qwseg2q"
      },
      "execution_count": null,
      "outputs": []
    },
    {
      "cell_type": "code",
      "source": [
        "df = pd.read_csv('Iris.csv')"
      ],
      "metadata": {
        "id": "vttng7g1heCm"
      },
      "execution_count": null,
      "outputs": []
    },
    {
      "cell_type": "code",
      "source": [
        "kelas = df.iloc[:, -1].tolist()\n",
        "print(\"Kelas:\", kelas)"
      ],
      "metadata": {
        "id": "SRLlCVrUhgRq"
      },
      "execution_count": null,
      "outputs": []
    },
    {
      "cell_type": "code",
      "source": [
        "def bin_enc_str(list_of_strings):\n",
        "    encoded_list = []\n",
        "    for string in list_of_strings:\n",
        "        binary_string = ' '.join(format(ord(char), '08b') for char in string)\n",
        "        encoded_list.append(binary_string)\n",
        "    return encoded_list"
      ],
      "metadata": {
        "id": "sArxjiwZhiJi"
      },
      "execution_count": null,
      "outputs": []
    },
    {
      "cell_type": "code",
      "source": [
        "def bin_dec_str(binary_list):\n",
        "    decoded_list = []\n",
        "    for binary_string in binary_list:\n",
        "        decoded_string = ''.join(chr(int(b, 2)) for b in binary_string.split())\n",
        "        decoded_list.append(decoded_string)\n",
        "    return decoded_list"
      ],
      "metadata": {
        "id": "BGNg7ZYShklM"
      },
      "execution_count": null,
      "outputs": []
    },
    {
      "cell_type": "code",
      "source": [
        "encoded_kelas = bin_enc_str(kelas)\n",
        "print(\"Binary Encoded Kelas:\", encoded_kelas)\n",
        "\n",
        "decoded_kelas = bin_dec_str(encoded_kelas)\n",
        "print(\"Binary Decoded Kelas:\", decoded_kelas)"
      ],
      "metadata": {
        "id": "Rqq3-LMbhoQY"
      },
      "execution_count": null,
      "outputs": []
    },
    {
      "cell_type": "code",
      "source": [
        "def onehot_enc_str(list_of_strings):\n",
        "    unique_strings = sorted(set(list_of_strings))\n",
        "    string_to_index = {string: idx for idx, string in enumerate(unique_strings)}\n",
        "\n",
        "    one_hot_encoded = []\n",
        "    for string in list_of_strings:\n",
        "        one_hot = [0] * len(unique_strings)\n",
        "        one_hot[string_to_index[string]] = 1\n",
        "        one_hot_encoded.append(one_hot)\n",
        "\n",
        "    return one_hot_encoded, unique_strings"
      ],
      "metadata": {
        "id": "1FYUIBx-ho8r"
      },
      "execution_count": null,
      "outputs": []
    },
    {
      "cell_type": "code",
      "source": [
        "def onehot_dec_str(one_hot_encoded, unique_strings):\n",
        "    decoded_list = []\n",
        "    for one_hot in one_hot_encoded:\n",
        "        index = np.argmax(one_hot)\n",
        "        decoded_list.append(unique_strings[index])\n",
        "\n",
        "    return decoded_list"
      ],
      "metadata": {
        "id": "F1lNSBzlh9ti"
      },
      "execution_count": null,
      "outputs": []
    },
    {
      "cell_type": "code",
      "source": [
        "one_hot_encoded, unique_kelas = onehot_enc_str(kelas)\n",
        "print(\"One-Hot Encoded Kelas:\", one_hot_encoded)\n",
        "print(\"Unique Kelas (for decoding):\", unique_kelas)\n",
        "\n",
        "decoded_kelas_onehot = onehot_dec_str(one_hot_encoded, unique_kelas)\n",
        "print(\"One-Hot Decoded Kelas:\", decoded_kelas_onehot)"
      ],
      "metadata": {
        "id": "tbYMeXVQiAa9"
      },
      "execution_count": null,
      "outputs": []
    },
    {
      "cell_type": "code",
      "source": [
        "import numpy as np\n",
        "\n",
        "def bp_fit(X, target, layer_conf, max_epoch, max_error=0.1, learn_rate=0.1, print_per_epoch=100):\n",
        "    np.random.seed(1)\n",
        "\n",
        "    nin = [np.empty(i) for i in layer_conf]\n",
        "\n",
        "    n = [np.empty(j + 1) if i < len(layer_conf) - 1 else np.empty(j)\n",
        "         for i, j in enumerate(layer_conf)]\n",
        "\n",
        "    w = [np.random.rand(layer_conf[i] + 1, layer_conf[i + 1])\n",
        "         for i in range(len(layer_conf) - 1)]\n",
        "\n",
        "    dw = [np.empty((layer_conf[i] + 1, layer_conf[i + 1]))\n",
        "          for i in range(len(layer_conf) - 1)]\n",
        "\n",
        "    d = [np.empty(s) for s in layer_conf[1:]]\n",
        "    din = [np.empty(s) for s in layer_conf[1:-1]]\n",
        "\n",
        "    epoch = 0\n",
        "    mse = 1\n",
        "\n",
        "\n",
        "    for i in range(0, len(n) - 1):\n",
        "        n[i][-1] = 1\n",
        "\n",
        "    while (max_epoch == -1 or epoch < max_epoch) and mse > max_error:\n",
        "        epoch += 1\n",
        "        mse = 0\n",
        "\n",
        "        for r in range(len(X)):\n",
        "            n[0][:-1] = X[r]\n",
        "\n",
        "            for L in range(1, len(layer_conf)):\n",
        "                nin[L] = np.dot(n[L - 1], w[L - 1])\n",
        "                n[L][:len(nin[L])] = sig(nin[L])\n",
        "\n",
        "            e = target[r] - n[-1]\n",
        "            mse += sum(e ** 2)\n",
        "            d[-1] = e * sigd(nin[-1])\n",
        "            dw[-1] = learn_rate * d[-1] * n[-2].reshape((-1, 1))\n",
        "\n",
        "            for L in range(len(layer_conf) - 1, 1, -1):\n",
        "                din[L - 2] = np.dot(d[L - 1], np.transpose(w[L - 1][:-1]))\n",
        "                d[L - 2] = din[L - 2] * sigd(nin[L - 1])\n",
        "                dw[L - 2] = learn_rate * d[L - 2] * n[L - 2].reshape((-1, 1))\n",
        "\n",
        "            for i in range(len(w)):\n",
        "                w[i] += dw[i]\n",
        "\n",
        "        mse /= len(X)\n",
        "\n",
        "        if print_per_epoch > -1 and epoch % print_per_epoch == 0:\n",
        "            print(f'Epoch {epoch}, MSE: {mse}')\n",
        "\n",
        "    return w, epoch, mse"
      ],
      "metadata": {
        "id": "CzhRa18ism-g"
      },
      "execution_count": null,
      "outputs": []
    },
    {
      "cell_type": "code",
      "source": [
        "def bp_predict(X, w):\n",
        "    n = [np.empty(len(i)) for i in w]\n",
        "    nin = [np.empty(len(i[0])) for i in w]\n",
        "    predict = []\n",
        "\n",
        "    n.append(np.empty(len(w[-1][0])))\n",
        "\n",
        "    for x in X:\n",
        "        n[0][:-1] = x\n",
        "\n",
        "        for L in range(0, len(w)):\n",
        "            nin[L] = np.dot(n[L], w[L])\n",
        "            n[L + 1][:len(nin[L])] = sig(nin[L])\n",
        "\n",
        "        predict.append(n[-1].copy())\n",
        "    return predict"
      ],
      "metadata": {
        "id": "7yz-p-DBsoHQ"
      },
      "execution_count": null,
      "outputs": []
    },
    {
      "cell_type": "code",
      "source": [
        "from sklearn import datasets\n",
        "from sklearn.model_selection import train_test_split\n",
        "from sklearn.preprocessing import minmax_scale\n",
        "from sklearn.metrics import accuracy_score\n",
        "\n",
        "iris = datasets.load_iris()\n",
        "X = minmax_scale(iris.data)\n",
        "Y = onehot_enc(iris.target)\n",
        "\n",
        "X_train, X_test, y_train, y_test = train_test_split(X, Y,test_size=.3,random_state=1)\n",
        "w, ep, mse = bp_fit(X_train, y_train, layer_conf=(4, 3, 3), learn_rate=.1, max_epoch=1000, max_error=.1, print_per_epoch=25)\n",
        "\n",
        "print(f'Epochs: {ep}, MSE: {mse}')\n",
        "\n",
        "predict = bp_predict(X_test, w)\n",
        "predict = onehot_dec(predict)\n",
        "y_test = onehot_dec(y_test)\n",
        "accuracy = accuracy_score(predict, y_test)\n",
        "\n",
        "print('Output:', predict)\n",
        "print('True :', y_test)\n",
        "print('Accuracy:', accuracy)"
      ],
      "metadata": {
        "colab": {
          "base_uri": "https://localhost:8080/"
        },
        "id": "pf07OLS2sptF",
        "outputId": "5687a078-6597-4013-ed99-25c5d4091888"
      },
      "execution_count": null,
      "outputs": [
        {
          "output_type": "stream",
          "name": "stdout",
          "text": [
            "Epoch 25, MSE: 0.4573000553790559\n",
            "Epoch 50, MSE: 0.321272689922169\n",
            "Epoch 75, MSE: 0.2668003450939322\n",
            "Epoch 100, MSE: 0.19045841193641896\n",
            "Epoch 125, MSE: 0.13206064032817524\n",
            "Epoch 150, MSE: 0.10002434429710472\n",
            "Epochs: 151, MSE: 0.09910797309769231\n",
            "Output: [0, 1, 1, 0, 2, 1, 2, 0, 0, 2, 1, 0, 2, 1, 1, 0, 1, 1, 0, 0, 1, 1, 2, 0, 2, 1, 0, 0, 1, 2, 1, 2, 1, 2, 2, 0, 1, 0, 1, 2, 2, 0, 2, 2, 1]\n",
            "True : [0, 1, 1, 0, 2, 1, 2, 0, 0, 2, 1, 0, 2, 1, 1, 0, 1, 1, 0, 0, 1, 1, 1, 0, 2, 1, 0, 0, 1, 2, 1, 2, 1, 2, 2, 0, 1, 0, 1, 2, 2, 0, 2, 2, 1]\n",
            "Accuracy: 0.9777777777777777\n"
          ]
        }
      ]
    },
    {
      "cell_type": "code",
      "source": [
        "from sklearn import datasets\n",
        "from sklearn.model_selection import train_test_split\n",
        "from sklearn.preprocessing import minmax_scale\n",
        "from sklearn.metrics import accuracy_score\n",
        "\n",
        "iris = datasets.load_iris()\n",
        "X = minmax_scale(iris.data)\n",
        "Y = onehot_enc(iris.target)\n",
        "\n",
        "X_train, X_test, y_train, y_test = train_test_split(X, Y, test_size=.3, random_state=1)\n",
        "w, ep, mse = bp_fit(X_train, y_train, layer_conf=(4, 2, 3),\n",
        "learn_rate=.1, max_epoch=100, max_error=.5, print_per_epoch=25)\n",
        "\n",
        "print (f'Epochs: {ep}, MSE: {mse}')\n",
        "\n",
        "predict = bp_predict(X_test, w)\n",
        "predict = onehot_dec(predict)\n",
        "y_test = onehot_dec(y_test)\n",
        "accuracy = accuracy_score(predict, y_test)\n",
        "\n",
        "print('Output:', predict)\n",
        "print('True:', y_test)\n",
        "print('Accuracy:', accuracy)"
      ],
      "metadata": {
        "colab": {
          "base_uri": "https://localhost:8080/"
        },
        "id": "UjemZ9bK9D7m",
        "outputId": "82400af9-c421-4d52-915a-0fba9d3e1eb4"
      },
      "execution_count": null,
      "outputs": [
        {
          "output_type": "stream",
          "name": "stdout",
          "text": [
            "Epoch 25, MSE: 0.5587148548510855\n",
            "Epochs: 29, MSE: 0.49569003845261594\n",
            "Output: [2, 2, 2, 2, 2, 2, 2, 2, 2, 2, 2, 2, 2, 2, 2, 2, 2, 2, 2, 2, 2, 2, 2, 2, 2, 2, 2, 2, 2, 2, 2, 2, 2, 2, 2, 2, 2, 2, 2, 2, 2, 2, 2, 2, 2]\n",
            "True: [0, 1, 1, 0, 2, 1, 2, 0, 0, 2, 1, 0, 2, 1, 1, 0, 1, 1, 0, 0, 1, 1, 1, 0, 2, 1, 0, 0, 1, 2, 1, 2, 1, 2, 2, 0, 1, 0, 1, 2, 2, 0, 2, 2, 1]\n",
            "Accuracy: 0.28888888888888886\n"
          ]
        }
      ]
    },
    {
      "cell_type": "code",
      "source": [
        "from sklearn import datasets\n",
        "from sklearn.model_selection import train_test_split\n",
        "from sklearn.preprocessing import minmax_scale\n",
        "from sklearn.metrics import accuracy_score\n",
        "\n",
        "iris = datasets.load_iris()\n",
        "X = minmax_scale(iris.data)\n",
        "Y = onehot_enc(iris.target)\n",
        "\n",
        "X_train, X_test, y_train, y_test = train_test_split(X, Y, test_size=.3, random_state=1)\n",
        "w, ep, mse = bp_fit(X_train, y_train, layer_conf=(4, 25, 3), learn_rate=.1, max_epoch=10000, max_error=.01, print_per_epoch=25)\n",
        "\n",
        "print = (f'Epochs: {ep}, MSE: {mse}')\n",
        "\n",
        "predict = bp_predict(X_test, w)\n",
        "predict = onehot_dec(predict)\n",
        "y_test = onehot_dec(y_test)\n",
        "accuracy = accuracy_score(predict, y_test)\n",
        "\n",
        "print('Output:', predict)\n",
        "print('True :', y_test)\n",
        "print('Accuracy:', accuracy)"
      ],
      "metadata": {
        "colab": {
          "base_uri": "https://localhost:8080/",
          "height": 1000
        },
        "id": "F8PnFU2E_r0d",
        "outputId": "8e57f8c5-7016-4e55-afe7-c87282b2c33f"
      },
      "execution_count": null,
      "outputs": [
        {
          "output_type": "stream",
          "name": "stdout",
          "text": [
            "Epoch 25, MSE: 1.9997475602526067\n",
            "Epoch 50, MSE: 1.9996839107720699\n",
            "Epoch 75, MSE: 1.9995729256252905\n",
            "Epoch 100, MSE: 1.9993234166160632\n",
            "Epoch 125, MSE: 1.998004842894972\n",
            "Epoch 150, MSE: 1.5034310711672474\n",
            "Epoch 175, MSE: 0.9882734055300789\n",
            "Epoch 200, MSE: 0.9358385629366138\n",
            "Epoch 225, MSE: 0.8962403847767554\n",
            "Epoch 250, MSE: 0.5720113088188044\n",
            "Epoch 275, MSE: 0.1718964155883048\n",
            "Epoch 300, MSE: 0.13551945448567226\n",
            "Epoch 325, MSE: 0.10976277201695424\n",
            "Epoch 350, MSE: 0.09159154648169049\n",
            "Epoch 375, MSE: 0.07929291362007068\n",
            "Epoch 400, MSE: 0.07095077966556529\n",
            "Epoch 425, MSE: 0.06511610472051664\n",
            "Epoch 450, MSE: 0.06088086243803241\n",
            "Epoch 475, MSE: 0.05769828099112584\n",
            "Epoch 500, MSE: 0.05523313404391771\n",
            "Epoch 525, MSE: 0.05327321999520479\n",
            "Epoch 550, MSE: 0.051680019060663\n",
            "Epoch 575, MSE: 0.05036062409674887\n",
            "Epoch 600, MSE: 0.0492511427801703\n",
            "Epoch 625, MSE: 0.04830653743243751\n",
            "Epoch 650, MSE: 0.0474942479018858\n",
            "Epoch 675, MSE: 0.0467901200965703\n",
            "Epoch 700, MSE: 0.046175774075554316\n",
            "Epoch 725, MSE: 0.04563688398575027\n",
            "Epoch 750, MSE: 0.04516204040471443\n",
            "Epoch 775, MSE: 0.04474198671995556\n",
            "Epoch 800, MSE: 0.04436909700191669\n",
            "Epoch 825, MSE: 0.04403701092671842\n",
            "Epoch 850, MSE: 0.043740371938100424\n",
            "Epoch 875, MSE: 0.043474634324519354\n",
            "Epoch 900, MSE: 0.04323591723896495\n",
            "Epoch 925, MSE: 0.04302089148908974\n",
            "Epoch 950, MSE: 0.04282668984054099\n",
            "Epoch 975, MSE: 0.04265083467662363\n",
            "Epoch 1000, MSE: 0.04249117882287875\n",
            "Epoch 1025, MSE: 0.042345856604053364\n",
            "Epoch 1050, MSE: 0.04221324302029275\n",
            "Epoch 1075, MSE: 0.04209191947439559\n",
            "Epoch 1100, MSE: 0.04198064485431984\n",
            "Epoch 1125, MSE: 0.04187833103726308\n",
            "Epoch 1150, MSE: 0.041784022072011366\n",
            "Epoch 1175, MSE: 0.04169687643867343\n",
            "Epoch 1200, MSE: 0.041616151894331044\n",
            "Epoch 1225, MSE: 0.04154119249909171\n",
            "Epoch 1250, MSE: 0.04147141748576008\n",
            "Epoch 1275, MSE: 0.041406311692066815\n",
            "Epoch 1300, MSE: 0.04134541732002254\n",
            "Epoch 1325, MSE: 0.04128832682462402\n",
            "Epoch 1350, MSE: 0.04123467676538137\n",
            "Epoch 1375, MSE: 0.04118414248015849\n",
            "Epoch 1400, MSE: 0.04113643346257424\n",
            "Epoch 1425, MSE: 0.04109128934241915\n",
            "Epoch 1450, MSE: 0.04104847638383636\n",
            "Epoch 1475, MSE: 0.041007784428856976\n",
            "Epoch 1500, MSE: 0.0409690242246994\n",
            "Epoch 1525, MSE: 0.04093202508235701\n",
            "Epoch 1550, MSE: 0.04089663282169357\n",
            "Epoch 1575, MSE: 0.04086270796477128\n",
            "Epoch 1600, MSE: 0.0408301241446381\n",
            "Epoch 1625, MSE: 0.04079876670146962\n",
            "Epoch 1650, MSE: 0.04076853144192072\n",
            "Epoch 1675, MSE: 0.04073932354090524\n",
            "Epoch 1700, MSE: 0.040711056567894595\n",
            "Epoch 1725, MSE: 0.0406836516222629\n",
            "Epoch 1750, MSE: 0.04065703656430092\n",
            "Epoch 1775, MSE: 0.040631145330300766\n",
            "Epoch 1800, MSE: 0.04060591732165031\n",
            "Epoch 1825, MSE: 0.04058129685918402\n",
            "Epoch 1850, MSE: 0.04055723269517248\n",
            "Epoch 1875, MSE: 0.04053367757630275\n",
            "Epoch 1900, MSE: 0.040510587851844915\n",
            "Epoch 1925, MSE: 0.04048792312192261\n",
            "Epoch 1950, MSE: 0.04046564592144081\n",
            "Epoch 1975, MSE: 0.04044372143576321\n",
            "Epoch 2000, MSE: 0.040422117244710315\n",
            "Epoch 2025, MSE: 0.040400803091862274\n",
            "Epoch 2050, MSE: 0.04037975067650614\n",
            "Epoch 2075, MSE: 0.04035893346589022\n",
            "Epoch 2100, MSE: 0.04033832652571127\n",
            "Epoch 2125, MSE: 0.04031790636701102\n",
            "Epoch 2150, MSE: 0.04029765080786386\n",
            "Epoch 2175, MSE: 0.04027753884842159\n",
            "Epoch 2200, MSE: 0.04025755055804552\n",
            "Epoch 2225, MSE: 0.040237666973394835\n",
            "Epoch 2250, MSE: 0.0402178700064656\n",
            "Epoch 2275, MSE: 0.0401981423616813\n",
            "Epoch 2300, MSE: 0.04017846746123178\n",
            "Epoch 2325, MSE: 0.040158829377938056\n",
            "Epoch 2350, MSE: 0.040139212774988935\n",
            "Epoch 2375, MSE: 0.04011960285196158\n",
            "Epoch 2400, MSE: 0.040099985296582194\n",
            "Epoch 2425, MSE: 0.04008034624173274\n",
            "Epoch 2450, MSE: 0.040060672227244465\n",
            "Epoch 2475, MSE: 0.040040950166043816\n",
            "Epoch 2500, MSE: 0.04002116731424922\n",
            "Epoch 2525, MSE: 0.04000131124482988\n",
            "Epoch 2550, MSE: 0.03998136982445211\n",
            "Epoch 2575, MSE: 0.03996133119315698\n",
            "Epoch 2600, MSE: 0.03994118374651078\n",
            "Epoch 2625, MSE: 0.03992091611988698\n",
            "Epoch 2650, MSE: 0.03990051717453426\n",
            "Epoch 2675, MSE: 0.03987997598509456\n",
            "Epoch 2700, MSE: 0.039859281828235914\n",
            "Epoch 2725, MSE: 0.03983842417207373\n",
            "Epoch 2750, MSE: 0.039817392666053365\n",
            "Epoch 2775, MSE: 0.0397961771309847\n",
            "Epoch 2800, MSE: 0.03977476754892064\n",
            "Epoch 2825, MSE: 0.03975315405259321\n",
            "Epoch 2850, MSE: 0.0397313269141337\n",
            "Epoch 2875, MSE: 0.03970927653282524\n",
            "Epoch 2900, MSE: 0.03968699342166378\n",
            "Epoch 2925, MSE: 0.03966446819252598\n",
            "Epoch 2950, MSE: 0.03964169153978162\n",
            "Epoch 2975, MSE: 0.03961865422221429\n",
            "Epoch 3000, MSE: 0.03959534704315792\n",
            "Epoch 3025, MSE: 0.03957176082878905\n",
            "Epoch 3050, MSE: 0.03954788640455633\n",
            "Epoch 3075, MSE: 0.03952371456976565\n",
            "Epoch 3100, MSE: 0.03949923607037551\n",
            "Epoch 3125, MSE: 0.039474441570090606\n",
            "Epoch 3150, MSE: 0.03944932161987461\n",
            "Epoch 3175, MSE: 0.03942386662602588\n",
            "Epoch 3200, MSE: 0.039398066816982796\n",
            "Epoch 3225, MSE: 0.03937191220904433\n",
            "Epoch 3250, MSE: 0.03934539257119211\n",
            "Epoch 3275, MSE: 0.039318497389217284\n",
            "Epoch 3300, MSE: 0.03929121582934155\n",
            "Epoch 3325, MSE: 0.039263536701522425\n",
            "Epoch 3350, MSE: 0.03923544842261427\n",
            "Epoch 3375, MSE: 0.03920693897954814\n",
            "Epoch 3400, MSE: 0.03917799589266306\n",
            "Epoch 3425, MSE: 0.03914860617930833\n",
            "Epoch 3450, MSE: 0.0391187563178032\n",
            "Epoch 3475, MSE: 0.03908843221182618\n",
            "Epoch 3500, MSE: 0.03905761915527104\n",
            "Epoch 3525, MSE: 0.03902630179758832\n",
            "Epoch 3550, MSE: 0.03899446410961403\n",
            "Epoch 3575, MSE: 0.038962089349859445\n",
            "Epoch 3600, MSE: 0.03892916003122997\n",
            "Epoch 3625, MSE: 0.03889565788812207\n",
            "Epoch 3650, MSE: 0.03886156384384855\n",
            "Epoch 3675, MSE: 0.03882685797832764\n",
            "Epoch 3700, MSE: 0.03879151949598367\n",
            "Epoch 3725, MSE: 0.03875552669380464\n",
            "Epoch 3750, MSE: 0.03871885692951322\n",
            "Epoch 3775, MSE: 0.03868148658982159\n",
            "Epoch 3800, MSE: 0.03864339105875627\n",
            "Epoch 3825, MSE: 0.0386045446860585\n",
            "Epoch 3850, MSE: 0.0385649207556903\n",
            "Epoch 3875, MSE: 0.03852449145450279\n",
            "Epoch 3900, MSE: 0.038483227841153676\n",
            "Epoch 3925, MSE: 0.03844109981538981\n",
            "Epoch 3950, MSE: 0.038398076087853755\n",
            "Epoch 3975, MSE: 0.03835412415060239\n",
            "Epoch 4000, MSE: 0.038309210248576045\n",
            "Epoch 4025, MSE: 0.03826329935229458\n",
            "Epoch 4050, MSE: 0.038216355132106465\n",
            "Epoch 4075, MSE: 0.03816833993436945\n",
            "Epoch 4100, MSE: 0.038119214759992165\n",
            "Epoch 4125, MSE: 0.03806893924582304\n",
            "Epoch 4150, MSE: 0.038017471649437\n",
            "Epoch 4175, MSE: 0.037964768837925766\n",
            "Epoch 4200, MSE: 0.037910786281372184\n",
            "Epoch 4225, MSE: 0.03785547805174972\n",
            "Epoch 4250, MSE: 0.03779879682806267\n",
            "Epoch 4275, MSE: 0.037740693908612385\n",
            "Epoch 4300, MSE: 0.03768111923134608\n",
            "Epoch 4325, MSE: 0.03762002140331841\n",
            "Epoch 4350, MSE: 0.03755734774035922\n",
            "Epoch 4375, MSE: 0.03749304431811219\n",
            "Epoch 4400, MSE: 0.03742705603566368\n",
            "Epoch 4425, MSE: 0.037359326693033226\n",
            "Epoch 4450, MSE: 0.037289799083837276\n",
            "Epoch 4475, MSE: 0.037218415104462325\n",
            "Epoch 4500, MSE: 0.037145115881094065\n",
            "Epoch 4525, MSE: 0.03706984191593342\n",
            "Epoch 4550, MSE: 0.03699253325389573\n",
            "Epoch 4575, MSE: 0.036913129671017335\n",
            "Epoch 4600, MSE: 0.036831570885698\n",
            "Epoch 4625, MSE: 0.03674779679376237\n",
            "Epoch 4650, MSE: 0.03666174772814465\n",
            "Epoch 4675, MSE: 0.03657336474377154\n",
            "Epoch 4700, MSE: 0.03648258992794089\n",
            "Epoch 4725, MSE: 0.03638936673615914\n",
            "Epoch 4750, MSE: 0.03629364035302424\n",
            "Epoch 4775, MSE: 0.036195358077294765\n",
            "Epoch 4800, MSE: 0.03609446972980326\n",
            "Epoch 4825, MSE: 0.03599092808233264\n",
            "Epoch 4850, MSE: 0.03588468930499593\n",
            "Epoch 4875, MSE: 0.03577571342905236\n",
            "Epoch 4900, MSE: 0.03566396482145556\n",
            "Epoch 4925, MSE: 0.0355494126668\n",
            "Epoch 4950, MSE: 0.03543203145169679\n",
            "Epoch 4975, MSE: 0.035311801446020974\n",
            "Epoch 5000, MSE: 0.035188709174920875\n",
            "Epoch 5025, MSE: 0.035062747875020436\n",
            "Epoch 5050, MSE: 0.034933917927866445\n",
            "Epoch 5075, MSE: 0.03480222726343396\n",
            "Epoch 5100, MSE: 0.03466769172639575\n",
            "Epoch 5125, MSE: 0.03453033539792668\n",
            "Epoch 5150, MSE: 0.034390190866051565\n",
            "Epoch 5175, MSE: 0.03424729943797653\n",
            "Epoch 5200, MSE: 0.03410171128846151\n",
            "Epoch 5225, MSE: 0.0339534855391037\n",
            "Epoch 5250, MSE: 0.03380269026438378\n",
            "Epoch 5275, MSE: 0.0336494024214681\n",
            "Epoch 5300, MSE: 0.033493707702031285\n",
            "Epoch 5325, MSE: 0.03333570030572707\n",
            "Epoch 5350, MSE: 0.03317548263635408\n",
            "Epoch 5375, MSE: 0.03301316492319496\n",
            "Epoch 5400, MSE: 0.03284886477139735\n",
            "Epoch 5425, MSE: 0.03268270664658917\n",
            "Epoch 5450, MSE: 0.032514821300098244\n",
            "Epoch 5475, MSE: 0.03234534514218705\n",
            "Epoch 5500, MSE: 0.03217441957154562\n",
            "Epoch 5525, MSE: 0.032002190269903856\n",
            "Epoch 5550, MSE: 0.03182880647101622\n",
            "Epoch 5575, MSE: 0.03165442021342979\n",
            "Epoch 5600, MSE: 0.031479185586368065\n",
            "Epoch 5625, MSE: 0.03130325797777894\n",
            "Epoch 5650, MSE: 0.0311267933331105\n",
            "Epoch 5675, MSE: 0.0309499474327324\n",
            "Epoch 5700, MSE: 0.03077287519514472\n",
            "Epoch 5725, MSE: 0.030595730012229885\n",
            "Epoch 5750, MSE: 0.03041866312187084\n",
            "Epoch 5775, MSE: 0.030241823022282715\n",
            "Epoch 5800, MSE: 0.030065354931438176\n",
            "Epoch 5825, MSE: 0.029889400294027306\n",
            "Epoch 5850, MSE: 0.029714096337501845\n",
            "Epoch 5875, MSE: 0.02953957567793918\n",
            "Epoch 5900, MSE: 0.02936596597571896\n",
            "Epoch 5925, MSE: 0.02919338964036561\n",
            "Epoch 5950, MSE: 0.029021963583346976\n",
            "Epoch 5975, MSE: 0.02885179901716757\n",
            "Epoch 6000, MSE: 0.0286830012987159\n",
            "Epoch 6025, MSE: 0.028515669814544498\n",
            "Epoch 6050, MSE: 0.02834989790554328\n",
            "Epoch 6075, MSE: 0.028185772828329323\n",
            "Epoch 6100, MSE: 0.02802337575058952\n",
            "Epoch 6125, MSE: 0.027862781777578543\n",
            "Epoch 6150, MSE: 0.027704060006984874\n",
            "Epoch 6175, MSE: 0.02754727360941881\n",
            "Epoch 6200, MSE: 0.02739247993184751\n",
            "Epoch 6225, MSE: 0.027239730621391307\n",
            "Epoch 6250, MSE: 0.02708907176700408\n",
            "Epoch 6275, MSE: 0.02694054405667822\n",
            "Epoch 6300, MSE: 0.02679418294793605\n",
            "Epoch 6325, MSE: 0.026650018849508916\n",
            "Epoch 6350, MSE: 0.02650807731222444\n",
            "Epoch 6375, MSE: 0.026368379227267993\n",
            "Epoch 6400, MSE: 0.02623094103010568\n",
            "Epoch 6425, MSE: 0.0260957749084912\n",
            "Epoch 6450, MSE: 0.025962889013103854\n",
            "Epoch 6475, MSE: 0.025832287669485678\n",
            "Epoch 6500, MSE: 0.02570397159006642\n",
            "Epoch 6525, MSE: 0.025577938085178067\n",
            "Epoch 6550, MSE: 0.02545418127207004\n",
            "Epoch 6575, MSE: 0.02533269228104163\n",
            "Epoch 6600, MSE: 0.025213459457906026\n",
            "Epoch 6625, MSE: 0.02509646856209821\n",
            "Epoch 6650, MSE: 0.024981702959824412\n",
            "Epoch 6675, MSE: 0.02486914381173962\n",
            "Epoch 6700, MSE: 0.024758770254715897\n",
            "Epoch 6725, MSE: 0.024650559577340803\n",
            "Epoch 6750, MSE: 0.024544487388853564\n",
            "Epoch 6775, MSE: 0.024440527781290838\n",
            "Epoch 6800, MSE: 0.024338653484675756\n",
            "Epoch 6825, MSE: 0.024238836015134935\n",
            "Epoch 6850, MSE: 0.02414104581588199\n",
            "Epoch 6875, MSE: 0.02404525239104899\n",
            "Epoch 6900, MSE: 0.023951424432390744\n",
            "Epoch 6925, MSE: 0.023859529938921018\n",
            "Epoch 6950, MSE: 0.023769536329575333\n",
            "Epoch 6975, MSE: 0.02368141054902208\n",
            "Epoch 7000, MSE: 0.0235951191667695\n",
            "Epoch 7025, MSE: 0.0235106284697382\n",
            "Epoch 7050, MSE: 0.0234279045484868\n",
            "Epoch 7075, MSE: 0.023346913377293707\n",
            "Epoch 7100, MSE: 0.023267620888311153\n",
            "Epoch 7125, MSE: 0.023189993040016253\n",
            "Epoch 7150, MSE: 0.023113995880192896\n",
            "Epoch 7175, MSE: 0.023039595603681733\n",
            "Epoch 7200, MSE: 0.02296675860514043\n",
            "Epoch 7225, MSE: 0.022895451527055837\n",
            "Epoch 7250, MSE: 0.022825641303251404\n",
            "Epoch 7275, MSE: 0.022757295198129572\n",
            "Epoch 7300, MSE: 0.022690380841887292\n",
            "Epoch 7325, MSE: 0.022624866261938204\n",
            "Epoch 7350, MSE: 0.022560719910768922\n",
            "Epoch 7375, MSE: 0.022497910690453343\n",
            "Epoch 7400, MSE: 0.022436407974039597\n",
            "Epoch 7425, MSE: 0.022376181624019442\n",
            "Epoch 7450, MSE: 0.022317202008080468\n",
            "Epoch 7475, MSE: 0.022259440012335503\n",
            "Epoch 7500, MSE: 0.022202867052213405\n",
            "Epoch 7525, MSE: 0.022147455081188896\n",
            "Epoch 7550, MSE: 0.022093176597520373\n",
            "Epoch 7575, MSE: 0.022040004649154458\n",
            "Epoch 7600, MSE: 0.02198791283695117\n",
            "Epoch 7625, MSE: 0.021936875316371778\n",
            "Epoch 7650, MSE: 0.021886866797766143\n",
            "Epoch 7675, MSE: 0.021837862545385747\n",
            "Epoch 7700, MSE: 0.02178983837524408\n",
            "Epoch 7725, MSE: 0.02174277065193548\n",
            "Epoch 7750, MSE: 0.02169663628451825\n",
            "Epoch 7775, MSE: 0.021651412721560133\n",
            "Epoch 7800, MSE: 0.021607077945437907\n",
            "Epoch 7825, MSE: 0.021563610465975956\n",
            "Epoch 7850, MSE: 0.02152098931350288\n",
            "Epoch 7875, MSE: 0.02147919403139971\n",
            "Epoch 7900, MSE: 0.021438204668207405\n",
            "Epoch 7925, MSE: 0.02139800176935503\n",
            "Epoch 7950, MSE: 0.0213585663685682\n",
            "Epoch 7975, MSE: 0.021319879979008624\n",
            "Epoch 8000, MSE: 0.02128192458419401\n",
            "Epoch 8025, MSE: 0.0212446826287435\n",
            "Epoch 8050, MSE: 0.02120813700898713\n",
            "Epoch 8075, MSE: 0.021172271063478368\n",
            "Epoch 8100, MSE: 0.02113706856344159\n",
            "Epoch 8125, MSE: 0.02110251370318516\n",
            "Epoch 8150, MSE: 0.021068591090508695\n",
            "Epoch 8175, MSE: 0.021035285737126628\n",
            "Epoch 8200, MSE: 0.02100258304913307\n",
            "Epoch 8225, MSE: 0.020970468817525827\n",
            "Epoch 8250, MSE: 0.020938929208807227\n",
            "Epoch 8275, MSE: 0.020907950755678785\n",
            "Epoch 8300, MSE: 0.020877520347841953\n",
            "Epoch 8325, MSE: 0.02084762522291705\n",
            "Epoch 8350, MSE: 0.020818252957492282\n",
            "Epoch 8375, MSE: 0.020789391458310647\n",
            "Epoch 8400, MSE: 0.02076102895360209\n",
            "Epoch 8425, MSE: 0.02073315398456934\n",
            "Epoch 8450, MSE: 0.020705755397030214\n",
            "Epoch 8475, MSE: 0.020678822333224017\n",
            "Epoch 8500, MSE: 0.020652344223782013\n",
            "Epoch 8525, MSE: 0.020626310779867905\n",
            "Epoch 8550, MSE: 0.02060071198548839\n",
            "Epoch 8575, MSE: 0.020575538089975788\n",
            "Epoch 8600, MSE: 0.020550779600643127\n",
            "Epoch 8625, MSE: 0.020526427275612227\n",
            "Epoch 8650, MSE: 0.020502472116814528\n",
            "Epoch 8675, MSE: 0.020478905363163092\n",
            "Epoch 8700, MSE: 0.020455718483896\n",
            "Epoch 8725, MSE: 0.02043290317208831\n",
            "Epoch 8750, MSE: 0.02041045133833199\n",
            "Epoch 8775, MSE: 0.020388355104580928\n",
            "Epoch 8800, MSE: 0.020366606798159114\n",
            "Epoch 8825, MSE: 0.02034519894592991\n",
            "Epoch 8850, MSE: 0.020324124268623053\n",
            "Epoch 8875, MSE: 0.020303375675317026\n",
            "Epoch 8900, MSE: 0.020282946258074645\n",
            "Epoch 8925, MSE: 0.020262829286727162\n",
            "Epoch 8950, MSE: 0.020243018203805363\n",
            "Epoch 8975, MSE: 0.020223506619614376\n",
            "Epoch 9000, MSE: 0.020204288307448075\n",
            "Epoch 9025, MSE: 0.02018535719894098\n",
            "Epoch 9050, MSE: 0.020166707379553943\n",
            "Epoch 9075, MSE: 0.020148333084190055\n",
            "Epoch 9100, MSE: 0.020130228692938686\n",
            "Epoch 9125, MSE: 0.020112388726943303\n",
            "Epoch 9150, MSE: 0.020094807844390314\n",
            "Epoch 9175, MSE: 0.020077480836615955\n",
            "Epoch 9200, MSE: 0.020060402624327983\n",
            "Epoch 9225, MSE: 0.020043568253939038\n",
            "Epoch 9250, MSE: 0.020026972894008465\n",
            "Epoch 9275, MSE: 0.020010611831790242\n",
            "Epoch 9300, MSE: 0.019994480469883006\n",
            "Epoch 9325, MSE: 0.01997857432298042\n",
            "Epoch 9350, MSE: 0.01996288901471828\n",
            "Epoch 9375, MSE: 0.019947420274615907\n",
            "Epoch 9400, MSE: 0.019932163935108802\n",
            "Epoch 9425, MSE: 0.019917115928670397\n",
            "Epoch 9450, MSE: 0.01990227228501987\n",
            "Epoch 9475, MSE: 0.01988762912841347\n",
            "Epoch 9500, MSE: 0.019873182675017267\n",
            "Epoch 9525, MSE: 0.019858929230358303\n",
            "Epoch 9550, MSE: 0.01984486518685261\n",
            "Epoch 9575, MSE: 0.019830987021406912\n",
            "Epoch 9600, MSE: 0.019817291293092204\n",
            "Epoch 9625, MSE: 0.01980377464088707\n",
            "Epoch 9650, MSE: 0.019790433781488603\n",
            "Epoch 9675, MSE: 0.01977726550718879\n",
            "Epoch 9700, MSE: 0.019764266683813994\n",
            "Epoch 9725, MSE: 0.01975143424872671\n",
            "Epoch 9750, MSE: 0.019738765208886025\n",
            "Epoch 9775, MSE: 0.019726256638966762\n",
            "Epoch 9800, MSE: 0.019713905679533912\n",
            "Epoch 9825, MSE: 0.019701709535271755\n",
            "Epoch 9850, MSE: 0.019689665473265432\n",
            "Epoch 9875, MSE: 0.019677770821333786\n",
            "Epoch 9900, MSE: 0.01966602296641068\n",
            "Epoch 9925, MSE: 0.019654419352975523\n",
            "Epoch 9950, MSE: 0.019642957481529\n",
            "Epoch 9975, MSE: 0.01963163490711445\n",
            "Epoch 10000, MSE: 0.019620449237882337\n"
          ]
        },
        {
          "output_type": "error",
          "ename": "TypeError",
          "evalue": "'str' object is not callable",
          "traceback": [
            "\u001b[0;31m---------------------------------------------------------------------------\u001b[0m",
            "\u001b[0;31mTypeError\u001b[0m                                 Traceback (most recent call last)",
            "\u001b[0;32m<ipython-input-101-bdc4cd351e30>\u001b[0m in \u001b[0;36m<cell line: 20>\u001b[0;34m()\u001b[0m\n\u001b[1;32m     18\u001b[0m \u001b[0maccuracy\u001b[0m \u001b[0;34m=\u001b[0m \u001b[0maccuracy_score\u001b[0m\u001b[0;34m(\u001b[0m\u001b[0mpredict\u001b[0m\u001b[0;34m,\u001b[0m \u001b[0my_test\u001b[0m\u001b[0;34m)\u001b[0m\u001b[0;34m\u001b[0m\u001b[0;34m\u001b[0m\u001b[0m\n\u001b[1;32m     19\u001b[0m \u001b[0;34m\u001b[0m\u001b[0m\n\u001b[0;32m---> 20\u001b[0;31m \u001b[0mprint\u001b[0m\u001b[0;34m(\u001b[0m\u001b[0;34m'Output:'\u001b[0m\u001b[0;34m,\u001b[0m \u001b[0mpredict\u001b[0m\u001b[0;34m)\u001b[0m\u001b[0;34m\u001b[0m\u001b[0;34m\u001b[0m\u001b[0m\n\u001b[0m\u001b[1;32m     21\u001b[0m \u001b[0mprint\u001b[0m\u001b[0;34m(\u001b[0m\u001b[0;34m'True :'\u001b[0m\u001b[0;34m,\u001b[0m \u001b[0my_test\u001b[0m\u001b[0;34m)\u001b[0m\u001b[0;34m\u001b[0m\u001b[0;34m\u001b[0m\u001b[0m\n\u001b[1;32m     22\u001b[0m \u001b[0mprint\u001b[0m\u001b[0;34m(\u001b[0m\u001b[0;34m'Accuracy:'\u001b[0m\u001b[0;34m,\u001b[0m \u001b[0maccuracy\u001b[0m\u001b[0;34m)\u001b[0m\u001b[0;34m\u001b[0m\u001b[0;34m\u001b[0m\u001b[0m\n",
            "\u001b[0;31mTypeError\u001b[0m: 'str' object is not callable"
          ]
        }
      ]
    },
    {
      "cell_type": "code",
      "source": [
        "from sklearn import datasets\n",
        "from sklearn.model_selection import train_test_split\n",
        "from sklearn.preprocessing import minmax_scale\n",
        "from sklearn.metrics import accuracy_score\n",
        "\n",
        "del print\n",
        "\n",
        "iris = datasets.load_iris()\n",
        "X = minmax_scale(iris.data)\n",
        "Y = onehot_enc(iris.target)\n",
        "\n",
        "X_train, X_test, y_train, y_test = train_test_split(X, Y, test_size=.3, random_state=1)\n",
        "w, ep, mse = bp_fit(X_train, y_train, layer_conf=(4, 10, 3), learn_rate=.1, max_epoch=2000, max_error=.01, print_per_epoch=25)\n",
        "\n",
        "print = (f'Epochs: {ep}, MSE: {mse}')\n",
        "\n",
        "predict = bp_predict(X_test, w)\n",
        "predict = onehot_dec(predict)\n",
        "y_test = onehot_dec(y_test)\n",
        "accuracy = accuracy_score(predict, y_test)\n",
        "\n",
        "print('Output:', predict)"
      ],
      "metadata": {
        "colab": {
          "base_uri": "https://localhost:8080/",
          "height": 1000
        },
        "id": "ZOX32yCsBdI0",
        "outputId": "b1a8f1bd-e222-4dcb-dd76-b25c1eeca235"
      },
      "execution_count": null,
      "outputs": [
        {
          "output_type": "stream",
          "name": "stdout",
          "text": [
            "Epoch 25, MSE: 0.383776096514961\n",
            "Epoch 50, MSE: 0.2938290580342846\n",
            "Epoch 75, MSE: 0.23051680773921684\n",
            "Epoch 100, MSE: 0.1641746565691314\n",
            "Epoch 125, MSE: 0.12054245285529827\n",
            "Epoch 150, MSE: 0.09528092568898881\n",
            "Epoch 175, MSE: 0.08037329840572681\n",
            "Epoch 200, MSE: 0.07110175933017954\n",
            "Epoch 225, MSE: 0.06496455009618983\n",
            "Epoch 250, MSE: 0.060650291850340744\n",
            "Epoch 275, MSE: 0.057455956978168486\n",
            "Epoch 300, MSE: 0.05498915006560867\n",
            "Epoch 325, MSE: 0.05302027463743097\n",
            "Epoch 350, MSE: 0.051408353869327045\n",
            "Epoch 375, MSE: 0.05006270656010097\n",
            "Epoch 400, MSE: 0.04892241143572634\n",
            "Epoch 425, MSE: 0.04794487414778065\n",
            "Epoch 450, MSE: 0.04709922028747376\n",
            "Epoch 475, MSE: 0.04636234110506702\n",
            "Epoch 500, MSE: 0.045716448784807844\n",
            "Epoch 525, MSE: 0.04514751871364106\n",
            "Epoch 550, MSE: 0.04464426822008323\n",
            "Epoch 575, MSE: 0.04419746831397594\n",
            "Epoch 600, MSE: 0.04379946709053554\n",
            "Epoch 625, MSE: 0.043443850731851\n",
            "Epoch 650, MSE: 0.04312519596744861\n",
            "Epoch 675, MSE: 0.042838884724883404\n",
            "Epoch 700, MSE: 0.042580962078207\n",
            "Epoch 725, MSE: 0.04234802508363662\n",
            "Epoch 750, MSE: 0.042137134195284656\n",
            "Epoch 775, MSE: 0.04194574158593866\n",
            "Epoch 800, MSE: 0.041771632409495614\n",
            "Epoch 825, MSE: 0.04161287617178253\n",
            "Epoch 850, MSE: 0.04146778613578055\n",
            "Epoch 875, MSE: 0.041334885207519996\n",
            "Epoch 900, MSE: 0.04121287711323355\n",
            "Epoch 925, MSE: 0.04110062193937729\n",
            "Epoch 950, MSE: 0.040997115298621725\n",
            "Epoch 975, MSE: 0.04090147052857105\n",
            "Epoch 1000, MSE: 0.0408129034400717\n",
            "Epoch 1025, MSE: 0.04073071921792987\n",
            "Epoch 1050, MSE: 0.04065430114506804\n",
            "Epoch 1075, MSE: 0.0405831008760047\n",
            "Epoch 1100, MSE: 0.04051663003014757\n",
            "Epoch 1125, MSE: 0.04045445291198058\n",
            "Epoch 1150, MSE: 0.04039618019545141\n",
            "Epoch 1175, MSE: 0.04034146343498403\n",
            "Epoch 1200, MSE: 0.04028999028649422\n",
            "Epoch 1225, MSE: 0.040241480339343806\n",
            "Epoch 1250, MSE: 0.040195681474918366\n",
            "Epoch 1275, MSE: 0.04015236667992655\n",
            "Epoch 1300, MSE: 0.04011133125301471\n",
            "Epoch 1325, MSE: 0.0400723903521468\n",
            "Epoch 1350, MSE: 0.04003537683771956\n",
            "Epoch 1375, MSE: 0.04000013937275338\n",
            "Epoch 1400, MSE: 0.039966540746923816\n",
            "Epoch 1425, MSE: 0.039934456395804584\n",
            "Epoch 1450, MSE: 0.039903773090633865\n",
            "Epoch 1475, MSE: 0.03987438777727074\n",
            "Epoch 1500, MSE: 0.039846206545878546\n",
            "Epoch 1525, MSE: 0.03981914371533858\n",
            "Epoch 1550, MSE: 0.03979312101850147\n",
            "Epoch 1575, MSE: 0.03976806687619944\n",
            "Epoch 1600, MSE: 0.039743915749502264\n",
            "Epoch 1625, MSE: 0.03972060756104307\n",
            "Epoch 1650, MSE: 0.039698087177401135\n",
            "Epoch 1675, MSE: 0.0396763039455316\n",
            "Epoch 1700, MSE: 0.03965521127709851\n",
            "Epoch 1725, MSE: 0.03963476627532515\n",
            "Epoch 1750, MSE: 0.039614929399621406\n",
            "Epoch 1775, MSE: 0.03959566416382689\n",
            "Epoch 1800, MSE: 0.03957693686439468\n",
            "Epoch 1825, MSE: 0.03955871633527743\n",
            "Epoch 1850, MSE: 0.039540973726655756\n",
            "Epoch 1875, MSE: 0.039523682304974744\n",
            "Epoch 1900, MSE: 0.039506817272050306\n",
            "Epoch 1925, MSE: 0.03949035560125485\n",
            "Epoch 1950, MSE: 0.039474275889017175\n",
            "Epoch 1975, MSE: 0.0394585582200711\n",
            "Epoch 2000, MSE: 0.03944318404505383\n"
          ]
        },
        {
          "output_type": "error",
          "ename": "TypeError",
          "evalue": "'str' object is not callable",
          "traceback": [
            "\u001b[0;31m---------------------------------------------------------------------------\u001b[0m",
            "\u001b[0;31mTypeError\u001b[0m                                 Traceback (most recent call last)",
            "\u001b[0;32m<ipython-input-105-8decb80c1002>\u001b[0m in \u001b[0;36m<cell line: 22>\u001b[0;34m()\u001b[0m\n\u001b[1;32m     20\u001b[0m \u001b[0maccuracy\u001b[0m \u001b[0;34m=\u001b[0m \u001b[0maccuracy_score\u001b[0m\u001b[0;34m(\u001b[0m\u001b[0mpredict\u001b[0m\u001b[0;34m,\u001b[0m \u001b[0my_test\u001b[0m\u001b[0;34m)\u001b[0m\u001b[0;34m\u001b[0m\u001b[0;34m\u001b[0m\u001b[0m\n\u001b[1;32m     21\u001b[0m \u001b[0;34m\u001b[0m\u001b[0m\n\u001b[0;32m---> 22\u001b[0;31m \u001b[0mprint\u001b[0m\u001b[0;34m(\u001b[0m\u001b[0;34m'Output:'\u001b[0m\u001b[0;34m,\u001b[0m \u001b[0mpredict\u001b[0m\u001b[0;34m)\u001b[0m\u001b[0;34m\u001b[0m\u001b[0;34m\u001b[0m\u001b[0m\n\u001b[0m",
            "\u001b[0;31mTypeError\u001b[0m: 'str' object is not callable"
          ]
        }
      ]
    },
    {
      "cell_type": "code",
      "source": [
        "del print\n",
        "print('True :', y_test)"
      ],
      "metadata": {
        "colab": {
          "base_uri": "https://localhost:8080/"
        },
        "id": "STky8RMTCSaO",
        "outputId": "89bdf4e4-82e5-4c75-fb35-26ff8f5f9c65"
      },
      "execution_count": null,
      "outputs": [
        {
          "output_type": "stream",
          "name": "stdout",
          "text": [
            "True : [0, 1, 1, 0, 2, 1, 2, 0, 0, 2, 1, 0, 2, 1, 1, 0, 1, 1, 0, 0, 1, 1, 1, 0, 2, 1, 0, 0, 1, 2, 1, 2, 1, 2, 2, 0, 1, 0, 1, 2, 2, 0, 2, 2, 1]\n"
          ]
        }
      ]
    },
    {
      "cell_type": "code",
      "source": [
        "print('Accuracy:', accuracy)"
      ],
      "metadata": {
        "colab": {
          "base_uri": "https://localhost:8080/"
        },
        "id": "TnZH8s4CCUBL",
        "outputId": "3f32fc59-7dbd-47db-fc71-d5fe6e3a29b6"
      },
      "execution_count": null,
      "outputs": [
        {
          "output_type": "stream",
          "name": "stdout",
          "text": [
            "Accuracy: 1.0\n"
          ]
        }
      ]
    }
  ],
  "metadata": {
    "colab": {
      "provenance": []
    },
    "kernelspec": {
      "display_name": "Python 3",
      "name": "python3"
    }
  },
  "nbformat": 4,
  "nbformat_minor": 0
}