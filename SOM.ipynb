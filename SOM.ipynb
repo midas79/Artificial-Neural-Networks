{
 "cells": [
  {
   "cell_type": "markdown",
   "metadata": {
    "id": "8sBj-jBGbLEn"
   },
   "source": [
    "# Self-Organizing Maps"
   ]
  },
  {
   "cell_type": "markdown",
   "metadata": {
    "id": "pnT6xw0qbT0C"
   },
   "source": [
    "## Praktikum"
   ]
  },
  {
   "cell_type": "markdown",
   "metadata": {
    "id": "tC5FDai2begm"
   },
   "source": [
    "### a) Fungsi *self-organizing maps*\n",
    "Tulis kode ke dalam *cell* di bawah ini:"
   ]
  },
  {
   "cell_type": "code",
   "execution_count": 1,
   "metadata": {
    "id": "s8U5y5ESbzN8"
   },
   "outputs": [],
   "source": [
    "import numpy as np\n",
    "import matplotlib.pyplot as plt\n",
    "\n",
    "def som(X, lrate, b, max_epoch, n_cluster):\n",
    "    centroids = np.random.uniform(size=(n_cluster, len(X[0])))\n",
    "    epoch = 0\n",
    "    labels = []\n",
    "\n",
    "    while epoch < max_epoch:\n",
    "        for x in X:\n",
    "            d = [sum((w - x) ** 2) for w in centroids]\n",
    "            min = np.argmin(d)\n",
    "            centroids[min] += lrate * (x - centroids[min])\n",
    "        \n",
    "        lrate *= b\n",
    "        epoch += 1\n",
    "    \n",
    "    for x in X:\n",
    "        d = [sum((w - x) ** 2) for w in centroids]\n",
    "        min = np.argmin(d)\n",
    "        labels.append(min)\n",
    "    return centroids, labels\n",
    "\n",
    "def draw(X, target, centroids):\n",
    "    colors = 'rgbcmyk'\n",
    "\n",
    "    for x, label in zip(X, target):\n",
    "        plt.plot(x[0], x[1], colors[label] + '.')\n",
    "\n",
    "    plt.plot(centroids[:, 0], centroids[:, 1], 'kx')"
   ]
  },
  {
   "cell_type": "markdown",
   "metadata": {
    "id": "xDauUXg8bz-Q"
   },
   "source": [
    "### b) Klasterisasi\n",
    "Tulis kode ke dalam *cell* di bawah ini:"
   ]
  },
  {
   "cell_type": "code",
   "execution_count": 5,
   "metadata": {
    "id": "6khcAIFGb8Jr"
   },
   "outputs": [
    {
     "name": "stdout",
     "output_type": "stream",
     "text": [
      "Silhouette score: 0.7215682462170806\n"
     ]
    },
    {
     "data": {
      "image/png": "[encoded data removed]",
      "text/plain": [
       "<Figure size 640x480 with 1 Axes>"
      ]
     },
     "metadata": {},
     "output_type": "display_data"
    }
   ],
   "source": [
    "from sklearn.datasets import make_blobs\n",
    "from sklearn.metrics import silhouette_score\n",
    "import matplotlib.pyplot as plt\n",
    "\n",
    "X, target = make_blobs(n_samples=30, n_features=2, centers=3, random_state=3)\n",
    "centroids, labels = som(X, lrate=.5, b=.5, max_epoch=100, n_cluster=3)\n",
    "silhouette = silhouette_score(X, labels)\n",
    "\n",
    "print('Silhouette score:', silhouette)\n",
    "draw(X, target, centroids)"
   ]
  },
  {
   "cell_type": "markdown",
   "metadata": {},
   "source": [
    "## Analisis\n",
    "\n",
    "1. Ubah parameter pada kode b menjadi learning rate = 0,05 dan epoch\n",
    "maksimum = 3 lalu jalankan program. Amati gambar hasil klasterisasi dan\n",
    "nilai silhouette yang didapatkan."
   ]
  },
  {
   "cell_type": "code",
   "execution_count": 6,
   "metadata": {},
   "outputs": [
    {
     "name": "stdout",
     "output_type": "stream",
     "text": [
      "Silhouette score: 0.29613180669265315\n"
     ]
    },
    {
     "data": {
      "image/png": "[encoded data removed]",
      "text/plain": [
       "<Figure size 640x480 with 1 Axes>"
      ]
     },
     "metadata": {},
     "output_type": "display_data"
    }
   ],
   "source": [
    "from sklearn.datasets import make_blobs\n",
    "from sklearn.metrics import silhouette_score\n",
    "import matplotlib.pyplot as plt\n",
    "\n",
    "X, target = make_blobs(n_samples=30, n_features=2, centers=3, random_state=3)\n",
    "centroids, labels = som(X, lrate=.05, b=.5, max_epoch=3, n_cluster=3)\n",
    "silhouette = silhouette_score(X, labels)\n",
    "\n",
    "print('Silhouette score:', silhouette)\n",
    "draw(X, target, centroids)"
   ]
  },
  {
   "cell_type": "markdown",
   "metadata": {},
   "source": [
    "## Kesimpulan : \n",
    "\n",
    "1. Jelaskan tentang SOM dan fungsi centroid didalam SOM\n",
    "2. Jelaskan alur kerja kodingan pada bagian \"Fungsi self-organizing maps\"\n",
    "\n",
    "Jawab:\n",
    "\n",
    "1. Self-Organizing Maps (SOM) adalah jenis jaringan saraf tiruan yang digunakan untuk mengurangi dimensi data dan mengklasifikasikan data dengan cara yang tidak terawasi. SOM bekerja dengan mengelompokkan data ke dalam unit-unit (atau neuron) dalam bentuk grid, di mana setiap neuron memiliki satu centroid yang mewakili karakteristik dari kelompok data tertentu. Fungsi centroid dalam SOM adalah untuk menentukan posisi setiap neuron dalam ruang fitur dan untuk menghitung jarak antara data input dengan centroid, sehingga neuron yang paling dekat dengan input dapat diaktifkan dan diperbarui, memungkinkan jaringan untuk belajar dari data.\n",
    "\n",
    "2. Alur kerja kodingan pada bagian \"Fungsi Self-Organizing Maps\" umumnya dimulai dengan inisialisasi bobot neuron yang mewakili centroid dari setiap neuron. Kemudian, fungsi akan mengambil data input dan menghitung jarak antara data input dan centroid neuron menggunakan metrik jarak, seperti Euclidean. Neuron dengan jarak terdekat, yang disebut Best Matching Unit (BMU), akan diidentifikasi. Setelah BMU ditemukan, bobot centroid BMU dan neuron tetangga akan diperbarui berdasarkan learning rate dan radius. Proses ini diulang untuk sejumlah iterasi, di mana model belajar dan menyusun data ke dalam peta yang terorganisir berdasarkan kemiripan fitur."
   ]
  }
 ],
 "metadata": {
  "colab": {
   "provenance": [],
   "toc_visible": true
  },
  "kernelspec": {
   "display_name": "Python 3",
   "name": "python3"
  },
  "language_info": {
   "codemirror_mode": {
    "name": "ipython",
    "version": 3
   },
   "file_extension": ".py",
   "mimetype": "text/x-python",
   "name": "python",
   "nbconvert_exporter": "python",
   "pygments_lexer": "ipython3",
   "version": "3.12.6"
  }
 },
 "nbformat": 4,
 "nbformat_minor": 0
}
