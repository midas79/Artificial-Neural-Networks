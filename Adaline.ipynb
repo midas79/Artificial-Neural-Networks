{
  "cells": [
    {
      "cell_type": "markdown",
      "metadata": {
        "id": "aLsVNuahNyLX"
      },
      "source": [
        "# Adaline"
      ]
    },
    {
      "cell_type": "markdown",
      "metadata": {
        "id": "tWdlvgqtFNlJ"
      },
      "source": [
        "## Fungsi-fungsi *Plotting*\n",
        "\n",
        "Jangan mengubah kode pada *cell* di bawah ini."
      ]
    },
    {
      "cell_type": "code",
      "execution_count": null,
      "metadata": {
        "id": "xOO7PsDiFhnr"
      },
      "outputs": [],
      "source": [
        "import matplotlib.pyplot as plt\n",
        "import numpy as np\n",
        "\n",
        "\n",
        "def line(w, th=0):\n",
        "    w2 = w[2] + .001 if w[2] == 0 else w[2]\n",
        "\n",
        "    return lambda x: (th - w[1] * x - w[0]) / w2\n",
        "\n",
        "\n",
        "def plot(func, X, target, padding=1, marker='o'):\n",
        "    X = np.array(X)\n",
        "\n",
        "    x_vals, y_vals = X[:, 1], X[:, 2]\n",
        "    xmin, xmax, ymin, ymax = x_vals.min(), x_vals.max(), y_vals.min(), y_vals.max()\n",
        "\n",
        "    markers = f'r{marker}', f'b{marker}'\n",
        "    line_x = np.arange(xmin-padding-1, xmax+padding+1)\n",
        "\n",
        "    for c, v in enumerate(np.unique(target)):\n",
        "        p = X[np.where(target == v)]\n",
        "\n",
        "        plt.plot(p[:, 1], p[:, 2], markers[c])\n",
        "\n",
        "    plt.axis([xmin-padding, xmax+padding, ymin-padding, ymax+padding])\n",
        "    plt.plot(line_x, func(line_x))\n",
        "    plt.show()"
      ]
    },
    {
      "cell_type": "markdown",
      "metadata": {
        "id": "BHsOsVtUNygd"
      },
      "source": [
        "## Praktikum"
      ]
    },
    {
      "cell_type": "markdown",
      "metadata": {
        "id": "YO9WiMOEN3cD"
      },
      "source": [
        "### a) Fungsi Step Bipolar\n",
        "\n",
        "Tulis kode ke dalam *cell* di bawah ini:"
      ]
    },
    {
      "cell_type": "code",
      "execution_count": null,
      "metadata": {
        "id": "ulV5uF9zNwBG"
      },
      "outputs": [],
      "source": [
        "def bipstep(y, th=0):\n",
        "    return 1 if y >= th else -1"
      ]
    },
    {
      "cell_type": "markdown",
      "metadata": {
        "id": "4UV2JYGuFKwU"
      },
      "source": [
        "### b) Fungsi *Training* Adaline\n",
        "\n",
        "Tulis kode ke dalam *cell* di bawah ini:"
      ]
    },
    {
      "cell_type": "code",
      "execution_count": null,
      "metadata": {
        "id": "Ucso7xGNFp0k"
      },
      "outputs": [],
      "source": [
        "import sys\n",
        "\n",
        "\n",
        "def adaline_fit(x, t, alpha=.1, max_err=.1, max_epoch=-1,\n",
        "                verbose=False, draw=False):\n",
        "    w = np.random.uniform(0, 1, len(x[0]) + 1)\n",
        "    b = np.ones((len(x), 1))\n",
        "    x = np.hstack((b, x))\n",
        "    stop = False\n",
        "    epoch = 0\n",
        "\n",
        "    while not stop and (max_epoch == -1 or epoch < max_epoch):\n",
        "        epoch += 1\n",
        "        max_ch = -sys.maxsize\n",
        "\n",
        "        if verbose:\n",
        "            print('\\nEpoch', epoch)\n",
        "\n",
        "        for r, row in enumerate(x):\n",
        "            y = np.dot(row, w)\n",
        "\n",
        "            for i in range(len(row)):\n",
        "                w_new = w[i] + alpha * (t[r] - y) * row[i]\n",
        "                max_ch = max(abs(w[i] - w_new), max_ch)\n",
        "                w[i] = w_new\n",
        "\n",
        "            if verbose:\n",
        "                print('Bobot:', w)\n",
        "\n",
        "            if draw:\n",
        "                plot(line(w), x, t)\n",
        "\n",
        "        stop = max_ch < max_err\n",
        "\n",
        "    return w"
      ]
    },
    {
      "cell_type": "markdown",
      "metadata": {
        "id": "xK7ORrumFyDw"
      },
      "source": [
        "### c) Fungsi *Testing* Adaline\n",
        "\n",
        "Tulis kode ke dalam *cell* di bawah ini:"
      ]
    },
    {
      "cell_type": "code",
      "execution_count": null,
      "metadata": {
        "id": "oJCw9DgYF_ME"
      },
      "outputs": [],
      "source": [
        "def adaline_predict(X, w):\n",
        "    Y = []\n",
        "\n",
        "    for x in X:\n",
        "        y_in = w[0] + np.dot(x, w[1:])\n",
        "        y = bipstep(y_in)\n",
        "\n",
        "        Y.append(y)\n",
        "\n",
        "    return Y"
      ]
    },
    {
      "cell_type": "markdown",
      "metadata": {
        "id": "CplKg8gb0OAx"
      },
      "source": [
        "### d) Fungsi Hitung Akurasi\n",
        "\n",
        "Tulis kode ke dalam *cell* di bawah ini:"
      ]
    },
    {
      "cell_type": "code",
      "execution_count": null,
      "metadata": {
        "id": "4XvvdMjR0P-X"
      },
      "outputs": [],
      "source": [
        "def calc_accuracy(a, b):\n",
        "    s = [1 if a[i] == b[i] else 0 for i in range(len(a))]\n",
        "\n",
        "    return sum(s) / len(a)\n",
        "\n",
        "train = (1, 1)"
      ]
    },
    {
      "cell_type": "markdown",
      "metadata": {
        "id": "AzVQKtKTFx9l"
      },
      "source": [
        "### e) Logika AND\n",
        "\n",
        "Tulis kode ke dalam *cell* di bawah ini:"
      ]
    },
    {
      "cell_type": "code",
      "execution_count": null,
      "metadata": {
        "id": "2d254SJzGKGu"
      },
      "outputs": [],
      "source": []
    },
    {
      "cell_type": "markdown",
      "metadata": {
        "id": "xRK1QN-kGMFG"
      },
      "source": [
        "### f) Logika OR\n",
        "\n",
        "Tulis kode ke dalam *cell* di bawah ini:"
      ]
    },
    {
      "cell_type": "code",
      "execution_count": null,
      "metadata": {
        "id": "BvcGLITGGO2F"
      },
      "outputs": [],
      "source": []
    },
    {
      "cell_type": "markdown",
      "metadata": {
        "id": "rmwq4aMCGPJO"
      },
      "source": [
        "### g) Logika AND NOT\n",
        "\n",
        "Tulis kode ke dalam *cell* di bawah ini:"
      ]
    },
    {
      "cell_type": "code",
      "execution_count": null,
      "metadata": {
        "id": "TlTF8m6JGcIQ"
      },
      "outputs": [],
      "source": []
    },
    {
      "cell_type": "markdown",
      "metadata": {
        "id": "afbuZRasGpzC"
      },
      "source": [
        "### h) Logika XOR\n",
        "\n",
        "Tulis kode ke dalam *cell* di bawah ini:"
      ]
    },
    {
      "cell_type": "code",
      "execution_count": null,
      "metadata": {
        "id": "S1riM6v-Gth6"
      },
      "outputs": [],
      "source": []
    }
  ],
  "metadata": {
    "colab": {
      "provenance": []
    },
    "kernelspec": {
      "display_name": "Python 3",
      "name": "python3"
    }
  },
  "nbformat": 4,
  "nbformat_minor": 0
}
