{
  "nbformat": 4,
  "nbformat_minor": 0,
  "metadata": {
    "colab": {
      "provenance": [],
      "toc_visible": true
    },
    "kernelspec": {
      "name": "python3",
      "display_name": "Python 3"
    }
  },
  "cells": [
    {
      "cell_type": "markdown",
      "metadata": {
        "id": "9nBMRPjzYQM_"
      },
      "source": [
        "# Praktikum Jaringan Saraf Tiruan\n",
        "# Bab 1 McCulloch-Pitts Neuron"
      ]
    },
    {
      "cell_type": "markdown",
      "metadata": {
        "id": "WLV69evv93z6"
      },
      "source": [
        "## Praktikum"
      ]
    },
    {
      "cell_type": "markdown",
      "metadata": {
        "id": "TH2WWbKOYbfi"
      },
      "source": [
        "### a) Fungsi *Step* Biner\n",
        "\n",
        "Tulis kode ke dalam *cell* di bawah ini:"
      ]
    },
    {
      "cell_type": "code",
      "metadata": {
        "id": "bIJkBSh2Wagw"
      },
      "source": [
        "def binstep(x, th=0):\n",
        "    return 1 if x >= th else 0"
      ],
      "execution_count": null,
      "outputs": []
    },
    {
      "cell_type": "markdown",
      "metadata": {
        "id": "hqsbbVnjbQg8"
      },
      "source": [
        "### b) Fungsi McCulloch-Pitts (MCP) Neuron\n",
        "\n",
        "Tulis kode ke dalam *cell* di bawah ini:"
      ]
    },
    {
      "cell_type": "code",
      "metadata": {
        "id": "1ib6LYBRbRDF"
      },
      "source": [
        "import numpy as np\n",
        "\n",
        "def MCP(x, w, th):\n",
        "    y_in = np.dot(x, w)\n",
        "    y_out = binstep(y_in, th)\n",
        "\n",
        "    return y_out"
      ],
      "execution_count": null,
      "outputs": []
    },
    {
      "cell_type": "markdown",
      "metadata": {
        "id": "u-cpofdCfNUI"
      },
      "source": [
        "### c) Fungsi Hitung Akurasi"
      ]
    },
    {
      "cell_type": "code",
      "metadata": {
        "id": "ZXiZ_tEhfQQb"
      },
      "source": [
        "def calc_accuracy(a, b):\n",
        "    s = [1 if a[i] == b[i] else 0 for i in range(len(a))]\n",
        "\n",
        "    return sum(s) / len(a)"
      ],
      "execution_count": null,
      "outputs": []
    },
    {
      "cell_type": "markdown",
      "metadata": {
        "id": "yucbIRQSfs4l"
      },
      "source": [
        "### d) Fungsi Logika AND\n",
        "\n",
        "Tulis kode ke dalam *cell* di bawah ini:"
      ]
    },
    {
      "cell_type": "code",
      "metadata": {
        "id": "NiNa336XfzuU"
      },
      "source": [
        "def AND(X):\n",
        "    w = 1, 1\n",
        "    th = 2\n",
        "    y = [MCP(i, w, th) for i in X]\n",
        "\n",
        "    return y"
      ],
      "execution_count": null,
      "outputs": []
    },
    {
      "cell_type": "markdown",
      "metadata": {
        "id": "6WFr1QxJhA8z"
      },
      "source": [
        "### e) Eksekusi Logika AND\n",
        "\n",
        "Tulis kode ke dalam *cell* di bawah ini:"
      ]
    },
    {
      "cell_type": "code",
      "metadata": {
        "id": "2racFwUKhGhw",
        "colab": {
          "base_uri": "https://localhost:8080/"
        },
        "outputId": "64ae4986-721a-45dd-81db-043aa964f047"
      },
      "source": [
        "data = (0, 0), (0, 1), (1, 0), (1, 1)\n",
        "output = AND(data)\n",
        "true = 0, 0, 0, 1\n",
        "accuracy = calc_accuracy(output, true)\n",
        "\n",
        "print('Output:', output)\n",
        "print('True:', true)\n",
        "print('Accuracy:', accuracy)"
      ],
      "execution_count": null,
      "outputs": [
        {
          "output_type": "stream",
          "name": "stdout",
          "text": [
            "Output: [0, 0, 0, 1]\n",
            "True: (0, 0, 0, 1)\n",
            "Accuracy: 1.0\n"
          ]
        }
      ]
    },
    {
      "cell_type": "markdown",
      "metadata": {
        "id": "8yH-wMNUuLnh"
      },
      "source": [
        "### f) Fungsi Logika OR\n",
        "\n",
        "Tulis kode ke dalam *cell* di bawah ini:"
      ]
    },
    {
      "cell_type": "code",
      "metadata": {
        "id": "VQ051x3e8Fni"
      },
      "source": [
        "def OR(X):\n",
        "    w = 2, 2\n",
        "    th = 2\n",
        "    y = [MCP(i, w, th) for i in X]\n",
        "\n",
        "    return y"
      ],
      "execution_count": null,
      "outputs": []
    },
    {
      "cell_type": "markdown",
      "metadata": {
        "id": "WMBtCgmz8F9V"
      },
      "source": [
        "### g)\tEksekusi Logika OR\n",
        "\n",
        "Tulis kode ke dalam *cell* di bawah ini:"
      ]
    },
    {
      "cell_type": "code",
      "metadata": {
        "id": "Cjq7S2ax8IHu",
        "colab": {
          "base_uri": "https://localhost:8080/"
        },
        "outputId": "bbcf4549-f674-4eb6-8e83-db2f78390d79"
      },
      "source": [
        "data = (0, 0), (0, 1), (1, 0), (1, 1)\n",
        "output = OR(data)\n",
        "true = 0, 1, 1, 1\n",
        "accuracy = calc_accuracy(output, true)\n",
        "\n",
        "print('Output:', output)\n",
        "print('True:', true)\n",
        "print('Accuracy:', accuracy)"
      ],
      "execution_count": null,
      "outputs": [
        {
          "output_type": "stream",
          "name": "stdout",
          "text": [
            "Output: [0, 1, 1, 1]\n",
            "True: (0, 1, 1, 1)\n",
            "Accuracy: 1.0\n"
          ]
        }
      ]
    },
    {
      "cell_type": "markdown",
      "metadata": {
        "id": "dg__TkVI8Ko9"
      },
      "source": [
        "### h) Logika AND NOT\n",
        "\n",
        "Tulis kode ke dalam *cell* di bawah ini:"
      ]
    },
    {
      "cell_type": "code",
      "metadata": {
        "id": "EO-ZbanW8P6J"
      },
      "source": [
        "def ANDNOT(X):\n",
        "    w = 2, -1\n",
        "    th = 2\n",
        "    y = [MCP(i, w, th) for i in X]\n",
        "\n",
        "    return y"
      ],
      "execution_count": null,
      "outputs": []
    },
    {
      "cell_type": "markdown",
      "metadata": {
        "id": "ybMvyiyN8RMS"
      },
      "source": [
        "### i) Eksekusi Logika AND NOT\n",
        "\n",
        "Tulis kode ke dalam *cell* di bawah ini:"
      ]
    },
    {
      "cell_type": "code",
      "metadata": {
        "id": "8Ccg-2UU8Ugk",
        "colab": {
          "base_uri": "https://localhost:8080/"
        },
        "outputId": "b5660a1d-1443-472d-ce97-0b0512b29764"
      },
      "source": [
        "data = (0, 0), (0, 1), (1, 0), (1, 1)\n",
        "output = ANDNOT(data)\n",
        "true = 0, 0, 1, 0\n",
        "accuracy = calc_accuracy(output, true)\n",
        "\n",
        "print('Output:', output)\n",
        "print('True:', true)\n",
        "print('Accuracy:', accuracy)"
      ],
      "execution_count": null,
      "outputs": [
        {
          "output_type": "stream",
          "name": "stdout",
          "text": [
            "Output: [0, 0, 1, 0]\n",
            "True: (0, 0, 1, 0)\n",
            "Accuracy: 1.0\n"
          ]
        }
      ]
    },
    {
      "cell_type": "markdown",
      "metadata": {
        "id": "pjx_Nnmw-Adv"
      },
      "source": [
        "### j) Fungsi Logika XOR\n",
        "\n",
        "Tulis kode ke dalam *cell* di bawah ini:"
      ]
    },
    {
      "cell_type": "code",
      "metadata": {
        "id": "AN2gQc1A-FPf"
      },
      "source": [
        "def XOR(X):\n",
        "    X_flip = [(i[1], i[0]) for i in X]\n",
        "    y1 = ANDNOT(X)\n",
        "    y2 = ANDNOT(X_flip)\n",
        "    y = zip(y1, y2)\n",
        "    z = OR(y)\n",
        "\n",
        "    return z"
      ],
      "execution_count": null,
      "outputs": []
    },
    {
      "cell_type": "markdown",
      "metadata": {
        "id": "BF6s1lFa-Fyf"
      },
      "source": [
        "### k) Eksekusi Logika XOR\n",
        "\n",
        "Tulis kode ke dalam *cell* di bawah ini:"
      ]
    },
    {
      "cell_type": "code",
      "metadata": {
        "id": "DLbzE9yl-JFR",
        "colab": {
          "base_uri": "https://localhost:8080/"
        },
        "outputId": "e0d0645a-b066-44d5-cd68-ff302156791a"
      },
      "source": [
        "data = (0, 0), (0, 1), (1, 0), (1, 1)\n",
        "output = XOR(data)\n",
        "true = 0, 1, 1, 0\n",
        "accuracy = calc_accuracy(output, true)\n",
        "\n",
        "print('Output:', output)\n",
        "print('True:', true)\n",
        "print('Accuracy:', accuracy)"
      ],
      "execution_count": null,
      "outputs": [
        {
          "output_type": "stream",
          "name": "stdout",
          "text": [
            "Output: [0, 1, 1, 0]\n",
            "True: (0, 1, 1, 0)\n",
            "Accuracy: 1.0\n"
          ]
        }
      ]
    }
  ]
}