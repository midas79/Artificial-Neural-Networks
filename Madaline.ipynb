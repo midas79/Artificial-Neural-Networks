{
  "nbformat": 4,
  "nbformat_minor": 0,
  "metadata": {
    "colab": {
      "provenance": []
    },
    "kernelspec": {
      "name": "python3",
      "display_name": "Python 3"
    }
  },
  "cells": [
    {
      "cell_type": "markdown",
      "metadata": {
        "id": "aLsVNuahNyLX"
      },
      "source": [
        "# Madaline"
      ]
    },
    {
      "cell_type": "markdown",
      "metadata": {
        "id": "BHsOsVtUNygd"
      },
      "source": [
        "## Praktikum"
      ]
    },
    {
      "cell_type": "markdown",
      "metadata": {
        "id": "iLSQhRDeWyO9"
      },
      "source": [
        "### a) Import modul\n",
        "Tulis kode ke dalam *cell* di bawah ini:\n"
      ]
    },
    {
      "cell_type": "code",
      "metadata": {
        "id": "L7GAbOJcW7vD"
      },
      "source": [
        "import numpy as np"
      ],
      "execution_count": 1,
      "outputs": []
    },
    {
      "cell_type": "markdown",
      "metadata": {
        "id": "YO9WiMOEN3cD"
      },
      "source": [
        "### b) Fungsi Aktivasi\n",
        "\n",
        "Tulis kode ke dalam *cell* di bawah ini:"
      ]
    },
    {
      "cell_type": "code",
      "metadata": {
        "id": "ulV5uF9zNwBG"
      },
      "source": [
        "def aktivasi(x):\n",
        "  if x < 0:\n",
        "      return -1\n",
        "  else:\n",
        "      return 1"
      ],
      "execution_count": 2,
      "outputs": []
    },
    {
      "cell_type": "markdown",
      "metadata": {
        "id": "4UV2JYGuFKwU"
      },
      "source": [
        "### c) Fungsi *Training* Madaline\n",
        "\n",
        "Tulis kode ke dalam *cell* di bawah ini:"
      ]
    },
    {
      "cell_type": "code",
      "metadata": {
        "id": "Ucso7xGNFp0k"
      },
      "source": [
        "def train(train_data,train_target,alpha=0.1,max_epoch=10):\n",
        "      w = np.random.random((2,2))\n",
        "      v = np.array([0.5,0.5])\n",
        "      b = np.random.random(2)\n",
        "      b = np.append(b,0.5)\n",
        "      epoch = 0\n",
        "      v_aktivasi = np.vectorize(aktivasi)\n",
        "      weight_updated = True\n",
        "\n",
        "      while weight_updated == True and epoch < max_epoch:\n",
        "            weight_updated = False\n",
        "\n",
        "      for data,target in zip(train_data,train_target):\n",
        "          z_in = np.dot(data,w)\n",
        "          z_in = z_in + b[:-1]\n",
        "          z = v_aktivasi(z_in)\n",
        "          y_in = np.dot(z,v) + b[-1]\n",
        "          y = v_aktivasi(y_in)\n",
        "\n",
        "      if y!= target:\n",
        "              weight_updated = True\n",
        "\n",
        "      if target == 1:\n",
        "              index = np.argmin(np.abs(z_in))\n",
        "              b[index] = b[index] + alpha * (1 - z_in[index])\n",
        "              w[:, index] = w[:, index] + alpha * (1 - z_in[index])*data\n",
        "      elif target == -1:\n",
        "              index = np.where(z_in>0)[0]\n",
        "              if len(index)==1:\n",
        "                index = index[0]\n",
        "                b[index] = b[index] + alpha * (-1 - z_in[index])\n",
        "                w[:, index] = w[:, index] + alpha * (-1 - z_in[index]) * data\n",
        "      epoch = epoch +1\n",
        "      return (w,v,b)"
      ],
      "execution_count": 3,
      "outputs": []
    },
    {
      "cell_type": "markdown",
      "metadata": {
        "id": "xK7ORrumFyDw"
      },
      "source": [
        "### d) Fungsi *Testing* Adaline\n",
        "\n",
        "Tulis kode ke dalam *cell* di bawah ini:"
      ]
    },
    {
      "cell_type": "code",
      "metadata": {
        "id": "oJCw9DgYF_ME"
      },
      "source": [
        "def test(w,v,b,test_data):\n",
        "        v_aktivasi = np.vectorize(aktivasi)\n",
        "        z_in = np.dot(test_data, w)\n",
        "        z_in = z_in + b[:-1]\n",
        "        z = v_aktivasi(z_in)\n",
        "        y_in = np.dot(z, v) + b[-1]\n",
        "        y = v_aktivasi(y_in)\n",
        "        return y"
      ],
      "execution_count": 4,
      "outputs": []
    },
    {
      "cell_type": "markdown",
      "metadata": {
        "id": "CplKg8gb0OAx"
      },
      "source": [
        "### e) Fungsi Hitung Akurasi\n",
        "\n",
        "Tulis kode ke dalam *cell* di bawah ini:"
      ]
    },
    {
      "cell_type": "code",
      "metadata": {
        "id": "4XvvdMjR0P-X"
      },
      "source": [
        "def calc_accuracy(a, b):\n",
        "    s = [1 if a[i] == b[i] else 0 for i in range(len(a))]\n",
        "\n",
        "    return sum(s) / len(a)"
      ],
      "execution_count": 5,
      "outputs": []
    },
    {
      "cell_type": "markdown",
      "metadata": {
        "id": "AzVQKtKTFx9l"
      },
      "source": [
        "### f) Logika AND\n",
        "\n",
        "Tulis kode ke dalam *cell* di bawah ini:"
      ]
    },
    {
      "cell_type": "code",
      "metadata": {
        "id": "2d254SJzGKGu",
        "colab": {
          "base_uri": "https://localhost:8080/"
        },
        "outputId": "59ab6396-96f3-4e47-d769-58c9a19f5d62"
      },
      "source": [
        "data = np.array([[1, 1], [1, -1], [-1, 1], [-1, -1]])\n",
        "target = np.array([1,-1,-1,-1])\n",
        "(w,v,b) = train(data,target,alpha=0.8,max_epoch=10)\n",
        "output = test(w,v,b,data)\n",
        "accuracy = calc_accuracy(output, target)\n",
        "\n",
        "print('Output:', output)\n",
        "print('Target:', target)\n",
        "print('Accuracy:', accuracy)"
      ],
      "execution_count": 6,
      "outputs": [
        {
          "output_type": "stream",
          "name": "stdout",
          "text": [
            "Output: [ 1  1  1 -1]\n",
            "Target: [ 1 -1 -1 -1]\n",
            "Accuracy: 0.5\n"
          ]
        }
      ]
    },
    {
      "cell_type": "markdown",
      "metadata": {
        "id": "xRK1QN-kGMFG"
      },
      "source": [
        "### g) Logika OR\n",
        "\n",
        "Tulis kode ke dalam *cell* di bawah ini:"
      ]
    },
    {
      "cell_type": "code",
      "metadata": {
        "id": "BvcGLITGGO2F",
        "colab": {
          "base_uri": "https://localhost:8080/"
        },
        "outputId": "1faceb1c-7257-4441-a1de-ee4a230e23b1"
      },
      "source": [
        "data = np.array([[1,1],[1,-1],[-1,1],[-1,-1]])\n",
        "target = np.array([1,1,1,-1])\n",
        "(w,v,b) = train(data,target,alpha=0.2,max_epoch=10)\n",
        "output = test(w,v,b,data)\n",
        "accuracy = calc_accuracy(output, target)\n",
        "\n",
        "print('Output:', output)\n",
        "print('Target:', target)\n",
        "print('Accuracy:', accuracy)"
      ],
      "execution_count": 7,
      "outputs": [
        {
          "output_type": "stream",
          "name": "stdout",
          "text": [
            "Output: [ 1  1  1 -1]\n",
            "Target: [ 1  1  1 -1]\n",
            "Accuracy: 1.0\n"
          ]
        }
      ]
    },
    {
      "cell_type": "markdown",
      "source": [
        "## Analisis"
      ],
      "metadata": {
        "id": "gn_bLJl05yJb"
      }
    },
    {
      "cell_type": "markdown",
      "source": [
        "1. Berdasarkan source code yang ada, kapan proses training pada Madaline\n",
        "akan berhenti?\n",
        "2. Cobalah mengganti nilai alpha pada logika AND dengan rentang nilai 0,1-1.0. Apakah ada pengaruh alpha terhadap akurasi?\n",
        "3. Apakah jaringan Madaline dapat mengenali logika XOR dengan tepat?\n",
        "Mengapa demikian?\n",
        "4. Ubahlah data dan target pada Logika OR menggunakan bilangan biner\n",
        "(bukan bipolar). Jangan lupa mengubah pula fungsi aktivasi agar\n",
        "menghasilkan bilangan biner. Apakah Madaline dapat mengenali Logika OR\n",
        "dengan data dan target biner? Mengapa demikian?"
      ],
      "metadata": {
        "id": "Zi5PhJVV52Nt"
      }
    },
    {
      "cell_type": "markdown",
      "source": [
        "## Jawaban"
      ],
      "metadata": {
        "id": "HQF5_Wjg8kol"
      }
    },
    {
      "cell_type": "markdown",
      "source": [
        "1. Proses training pada Madaline dalam source code yang Anda miliki akan berhenti ketika salah satu dari dua kondisi terpenuhi. Pertama, jika tidak ada pembaruan bobot (variabel weight_updated tetap False). Pada setiap iterasi, jika bobot model berubah akibat perbedaan antara output prediksi dan target yang sebenarnya, variabel weight_updated akan diset ke True. Namun, jika tidak ada pembaruan selama satu epoch penuh, ini menunjukkan bahwa model sudah konvergen, dan proses training akan dihentikan. Kedua, training akan berhenti ketika jumlah epoch yang dijalankan mencapai batas maksimum yang telah ditentukan (max_epoch). Dalam source code, nilai ini ditetapkan sebagai parameter input, misalnya 10 epoch. Jadi, training akan berakhir baik ketika model sudah tidak membutuhkan pembaruan bobot lebih lanjut maupun ketika jumlah epoch maksimal telah tercapai."
      ],
      "metadata": {
        "id": "JshpS8uH5_Kh"
      }
    },
    {
      "cell_type": "markdown",
      "source": [
        "2. Berdasarkan percobaan dengan berbagai nilai alpha pada logika AND, terlihat bahwa alpha memiliki pengaruh yang signifikan terhadap akurasi model. Ketika alpha bernilai 0.1, pembaruan bobot berjalan sangat lambat sehingga model tidak mampu mencapai akurasi yang optimal, dengan hasil akurasi sebesar 50%. Pada alpha 0.5, model menunjukkan kinerja terbaik dengan akurasi 75%, karena pembaruan bobot cukup seimbang sehingga model dapat lebih baik dalam menyesuaikan output dengan target. Namun, ketika alpha meningkat ke 0.75 dan 1.0, akurasi kembali turun menjadi 50%. Ini menunjukkan bahwa pembaruan bobot terlalu agresif, menyebabkan model melompati solusi optimal dan menghasilkan output yang tidak sesuai dengan target. Dengan demikian, nilai alpha yang lebih moderat, seperti 0.5, memberikan hasil terbaik dalam meningkatkan akurasi model."
      ],
      "metadata": {
        "id": "dmZUviQ16FeC"
      }
    },
    {
      "cell_type": "code",
      "source": [
        "data = np.array([[1, 1], [1, -1], [-1, 1], [-1, -1]])\n",
        "target = np.array([1,-1,-1,-1])\n",
        "(w,v,b) = train(data,target,alpha=0.1,max_epoch=10)\n",
        "output = test(w,v,b,data)\n",
        "accuracy = calc_accuracy(output, target)\n",
        "\n",
        "print('Output:', output)\n",
        "print('Target:', target)\n",
        "print('Accuracy:', accuracy)"
      ],
      "metadata": {
        "colab": {
          "base_uri": "https://localhost:8080/"
        },
        "id": "GXjpJPN86KEt",
        "outputId": "cefa0093-6534-42fa-d4a8-45da4ba74d43"
      },
      "execution_count": 8,
      "outputs": [
        {
          "output_type": "stream",
          "name": "stdout",
          "text": [
            "Output: [ 1  1  1 -1]\n",
            "Target: [ 1 -1 -1 -1]\n",
            "Accuracy: 0.5\n"
          ]
        }
      ]
    },
    {
      "cell_type": "code",
      "source": [
        "data = np.array([[1, 1], [1, -1], [-1, 1], [-1, -1]])\n",
        "target = np.array([1,-1,-1,-1])\n",
        "(w,v,b) = train(data,target,alpha=0.25,max_epoch=10)\n",
        "output = test(w,v,b,data)\n",
        "accuracy = calc_accuracy(output, target)\n",
        "\n",
        "print('Output:', output)\n",
        "print('Target:', target)\n",
        "print('Accuracy:', accuracy)"
      ],
      "metadata": {
        "colab": {
          "base_uri": "https://localhost:8080/"
        },
        "id": "ZyC95BQt9a2a",
        "outputId": "62d20f75-b500-4b98-ee24-764cf62e80b9"
      },
      "execution_count": 9,
      "outputs": [
        {
          "output_type": "stream",
          "name": "stdout",
          "text": [
            "Output: [ 1  1  1 -1]\n",
            "Target: [ 1 -1 -1 -1]\n",
            "Accuracy: 0.5\n"
          ]
        }
      ]
    },
    {
      "cell_type": "code",
      "source": [
        "data = np.array([[1, 1], [1, -1], [-1, 1], [-1, -1]])\n",
        "target = np.array([1,-1,-1,-1])\n",
        "(w,v,b) = train(data,target,alpha=0.5,max_epoch=10)\n",
        "output = test(w,v,b,data)\n",
        "accuracy = calc_accuracy(output, target)\n",
        "\n",
        "print('Output:', output)\n",
        "print('Target:', target)\n",
        "print('Accuracy:', accuracy)"
      ],
      "metadata": {
        "colab": {
          "base_uri": "https://localhost:8080/"
        },
        "id": "5u5Ku8uu6RQ7",
        "outputId": "59b89f3d-90b7-4aea-9092-967e9c31b438"
      },
      "execution_count": 10,
      "outputs": [
        {
          "output_type": "stream",
          "name": "stdout",
          "text": [
            "Output: [ 1  1  1 -1]\n",
            "Target: [ 1 -1 -1 -1]\n",
            "Accuracy: 0.5\n"
          ]
        }
      ]
    },
    {
      "cell_type": "code",
      "source": [
        "data = np.array([[1, 1], [1, -1], [-1, 1], [-1, -1]])\n",
        "target = np.array([1,-1,-1,-1])\n",
        "(w,v,b) = train(data,target,alpha=0.75,max_epoch=10)\n",
        "output = test(w,v,b,data)\n",
        "accuracy = calc_accuracy(output, target)\n",
        "\n",
        "print('Output:', output)\n",
        "print('Target:', target)\n",
        "print('Accuracy:', accuracy)"
      ],
      "metadata": {
        "colab": {
          "base_uri": "https://localhost:8080/"
        },
        "id": "oNEgcp-l6S1G",
        "outputId": "c53e9718-7de9-476e-d001-8ae8f3b8086a"
      },
      "execution_count": 11,
      "outputs": [
        {
          "output_type": "stream",
          "name": "stdout",
          "text": [
            "Output: [ 1  1  1 -1]\n",
            "Target: [ 1 -1 -1 -1]\n",
            "Accuracy: 0.5\n"
          ]
        }
      ]
    },
    {
      "cell_type": "code",
      "source": [
        "data = np.array([[1, 1], [1, -1], [-1, 1], [-1, -1]])\n",
        "target = np.array([1,-1,-1,-1])\n",
        "(w,v,b) = train(data,target,alpha=1.0,max_epoch=10)\n",
        "output = test(w,v,b,data)\n",
        "accuracy = calc_accuracy(output, target)\n",
        "\n",
        "print('Output:', output)\n",
        "print('Target:', target)\n",
        "print('Accuracy:', accuracy)"
      ],
      "metadata": {
        "colab": {
          "base_uri": "https://localhost:8080/"
        },
        "id": "9pJ-bIyq6VXY",
        "outputId": "bd94b83c-16a9-460e-ed2e-ad17085d7be8"
      },
      "execution_count": 12,
      "outputs": [
        {
          "output_type": "stream",
          "name": "stdout",
          "text": [
            "Output: [ 1  1  1 -1]\n",
            "Target: [ 1 -1 -1 -1]\n",
            "Accuracy: 0.5\n"
          ]
        }
      ]
    },
    {
      "cell_type": "markdown",
      "source": [
        "3. Jaringan Madaline tidak dapat mengenali logika XOR dengan tepat karena keterbatasan arsitektur dan fungsi aktivasi yang digunakannya. Logika XOR (exclusive OR) adalah fungsi non-linear yang menghasilkan output true (1) hanya jika salah satu dari dua input bernilai true (1), tetapi tidak keduanya. Kombinasi input dan output untuk logika XOR menunjukkan bahwa titik-titik data tidak dapat dipisahkan secara linear, sehingga tidak ada garis lurus yang dapat membedakan kelas-kelas output. Madaline, yang merupakan jenis jaringan saraf tiruan berbasis arsitektur multilayer perceptron (MLP) dengan fungsi aktivasi linear, memerlukan pemisahan linear untuk melakukan klasifikasi dengan tepat. Karena sifat non-linear dari fungsi XOR, jaringan Madaline tidak mampu memodelkannya secara akurat. Untuk mengenali logika XOR dengan benar, diperlukan jaringan saraf tiruan yang lebih kompleks, seperti MLP dengan fungsi aktivasi non-linear (misalnya sigmoid atau ReLU) dan setidaknya satu lapisan tersembunyi, yang memungkinkan jaringan untuk mempelajari representasi non-linear dari data dan mengklasifikasikan output XOR dengan tepat."
      ],
      "metadata": {
        "id": "1lFwcMfj6YVo"
      }
    },
    {
      "cell_type": "markdown",
      "source": [
        "4. Berdasarkan hasil yang diperoleh, model Madaline menghasilkan output [1, 1, 1, 1] dengan target yang diharapkan [0, 1, 1, 1], sehingga akurasi yang dicapai adalah 75%. Meskipun model dapat memprediksi dengan benar 3 dari 4 contoh, kesalahan terjadi pada kombinasi input (0, 0), di mana model gagal mengklasifikasikan dengan tepat output yang seharusnya 0. Akurasi ini menunjukkan bahwa Madaline memiliki kinerja yang cukup baik, namun masih terdapat kesalahan dalam pengenalan pola, khususnya dalam kasus di mana kedua input adalah 0. Beberapa faktor dapat memengaruhi hasil ini, termasuk fungsi aktivasi yang digunakan, yang mungkin tidak cukup fleksibel untuk menangkap semua kombinasi input, serta nilai alpha dan jumlah epoch yang ditentukan dalam proses pelatihan. Selain itu, arsitektur jaringan yang digunakan mungkin tidak memiliki cukup neuron atau lapisan untuk menangkap kompleksitas data logika OR. Dengan demikian, meskipun Madaline dapat memberikan akurasi yang baik, ada ruang untuk perbaikan melalui penyesuaian fungsi aktivasi, parameter pelatihan, atau peningkatan kompleksitas arsitektur jaringan."
      ],
      "metadata": {
        "id": "5jgqdbLc6bH1"
      }
    },
    {
      "cell_type": "code",
      "source": [
        "def aktivasi(x):\n",
        "    if x < 0:\n",
        "        return 0\n",
        "    else:\n",
        "        return 1"
      ],
      "metadata": {
        "id": "9qONuYDH6drv"
      },
      "execution_count": 13,
      "outputs": []
    },
    {
      "cell_type": "code",
      "source": [
        "data = np.array([[0, 0], [0, 1], [1, 0], [1, 1]])\n",
        "target = np.array([0, 1, 1, 1])\n",
        "(w, v, b) = train(data, target, alpha=0.2, max_epoch=10)\n",
        "output = test(w, v, b, data)\n",
        "accuracy = calc_accuracy(output, target)\n",
        "\n",
        "print('Output:', output)\n",
        "print('Target:', target)\n",
        "print('Accuracy:', accuracy)"
      ],
      "metadata": {
        "colab": {
          "base_uri": "https://localhost:8080/"
        },
        "id": "Aubso5SM-hcy",
        "outputId": "3c6e2991-4dd1-4df6-9d03-b9deff3178c9"
      },
      "execution_count": 14,
      "outputs": [
        {
          "output_type": "stream",
          "name": "stdout",
          "text": [
            "Output: [1 1 1 1]\n",
            "Target: [0 1 1 1]\n",
            "Accuracy: 0.75\n"
          ]
        }
      ]
    }
  ]
}